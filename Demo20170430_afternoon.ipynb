{
 "cells": [
  {
   "cell_type": "markdown",
   "metadata": {},
   "source": [
    "## 使用Selenium 抓取網頁"
   ]
  },
  {
   "cell_type": "code",
   "execution_count": 1,
   "metadata": {
    "collapsed": false
   },
   "outputs": [
    {
     "name": "stdout",
     "output_type": "stream",
     "text": [
      "Requirement already satisfied: selenium in c:\\programdata\\anaconda3\\lib\\site-packages\n"
     ]
    }
   ],
   "source": [
    "! pip install selenium"
   ]
  },
  {
   "cell_type": "markdown",
   "metadata": {},
   "source": [
    "### 下載並解壓縮下列軟體\n",
    "- https://addons.mozilla.org/en-US/firefox/addon/selenium-ide/\n",
    "- https://github.com/mozilla/geckodriver/releases\n",
    "- https://sites.google.com/a/chromium.org/chromedriver/"
   ]
  },
  {
   "cell_type": "markdown",
   "metadata": {},
   "source": [
    "### 華納威休自動訂票"
   ]
  },
  {
   "cell_type": "code",
   "execution_count": 2,
   "metadata": {
    "collapsed": false,
    "scrolled": true
   },
   "outputs": [],
   "source": [
    "# -*- coding: utf-8 -*-\n",
    "from selenium import webdriver\n",
    "from selenium.webdriver.common.by import By\n",
    "from selenium.webdriver.common.keys import Keys\n",
    "from selenium.webdriver.support.ui import Select\n",
    "from selenium.common.exceptions import NoSuchElementException\n",
    "from selenium.common.exceptions import NoAlertPresentException\n",
    "import unittest, time, re\n",
    "\n",
    "driver = webdriver.Chrome()\n",
    "driver.implicitly_wait(30)\n",
    "base_url = \"http://web.vscinemas.com.tw/\"\n",
    "verificationErrors = []\n",
    "accept_next_alert = True\n",
    "\n",
    "\n",
    "driver.get(base_url)\n",
    "Select(driver.find_element_by_name(\"cinema\")).select_by_visible_text(u\"台北信義威秀影城\")\n",
    "Select(driver.find_element_by_name(\"movie\")).select_by_visible_text(u\"(3D 數位)星際異攻隊 2\")\n",
    "Select(driver.find_element_by_name(\"date\")).select_by_visible_text(u\"2017/05/04(四)\")\n",
    "Select(driver.find_element_by_name(\"session\")).select_by_visible_text(\"18:30\")\n",
    "driver.find_element_by_css_selector(\"input[type=\\\"button\\\"]\").click()\n",
    "driver.find_element_by_css_selector(\"a.icon-vsgeneral\").click()\n",
    "driver.find_element_by_name(\"agree\").click()\n",
    "driver.find_element_by_css_selector(\"input[type=\\\"submit\\\"]\").click()\n",
    "Select(driver.find_element_by_id(\"HO000007610913\")).select_by_visible_text(\"2\")\n",
    "Select(driver.find_element_by_id(\"HO000007610913\")).select_by_visible_text(\"0\")\n",
    "Select(driver.find_element_by_id(\"HO000007990938\")).select_by_visible_text(\"2\")\n",
    "driver.find_element_by_id(\"btnDoNext\").click()\n",
    "\n"
   ]
  },
  {
   "cell_type": "code",
   "execution_count": 3,
   "metadata": {
    "collapsed": true
   },
   "outputs": [],
   "source": [
    "driver.get('http://largitdata.com')"
   ]
  },
  {
   "cell_type": "code",
   "execution_count": 4,
   "metadata": {
    "collapsed": true
   },
   "outputs": [],
   "source": [
    "driver.close()"
   ]
  },
  {
   "cell_type": "markdown",
   "metadata": {},
   "source": [
    "### 抓取元大頁面"
   ]
  },
  {
   "cell_type": "code",
   "execution_count": 6,
   "metadata": {
    "collapsed": false
   },
   "outputs": [
    {
     "name": "stdout",
     "output_type": "stream",
     "text": [
      "<html xmlns=\"http://www.w3.org/1999/xhtml\"><head>\n",
      "<meta content=\"text/html;CHARSET=big5\" http-equiv=\"Content-Type\"/>\n",
      "<title>MoneyDJ─選股大師</title>\n",
      "<meta content=\"Web Jun 30 08:15:04 1999 GMT\" http-equiv=\"Expires\"/>\n",
      "<script language=\"javascript\">&lt;!--\n",
      "var sWhoAmI = 'SWCF';\n",
      "var sStklistAll ;\n",
      "if (typeof(top.frames['menu']) != \"undefined\") {\n",
      "\tif (top.frames['menu'].location.href.indexOf(\"zksubmenu_0.asp.htm\") &gt; -1 )\n",
      "\t\ttop.frames['menu'].location.href = '/z/zk/zk0/zksubmenu_7.asp.htm';\n",
      "}\n",
      "//--&gt;</script>\n",
      "</head>\n",
      "<frameset border=\"0\" frameborder=\"0\" framespacing=\"0\" rows=\"0,*\">\n",
      "<frame marginheight=\"8\" marginwidth=\"0\" name=\"up@just\" noresize=\"\" scrolling=\"auto\" src=\"/z/zk/zkf/HiddenFrame.htm\"/>\n",
      "<frame marginheight=\"8\" marginwidth=\"0\" name=\"down@just\" noresize=\"\" scrolling=\"auto\" src=\"/z/zk/zkf/zkExpert_F.asp\"/>\n",
      "</frameset>\n",
      "<noframes>\n",
      "  &lt;body&gt;\n",
      "  &lt;/body&gt;\n",
      "  </noframes>\n",
      "</html>\n"
     ]
    },
    {
     "name": "stderr",
     "output_type": "stream",
     "text": [
      "C:\\ProgramData\\Anaconda3\\lib\\site-packages\\bs4\\__init__.py:181: UserWarning: No parser was explicitly specified, so I'm using the best available HTML parser for this system (\"lxml\"). This usually isn't a problem, but if you run this code on another system, or in a different virtual environment, it may use a different parser and behave differently.\n",
      "\n",
      "The code that caused this warning is on line 193 of the file C:\\ProgramData\\Anaconda3\\lib\\runpy.py. To get rid of this warning, change code that looks like this:\n",
      "\n",
      " BeautifulSoup([your markup])\n",
      "\n",
      "to this:\n",
      "\n",
      " BeautifulSoup([your markup], \"lxml\")\n",
      "\n",
      "  markup_type=markup_type))\n"
     ]
    }
   ],
   "source": [
    "# -*- coding: utf-8 -*-\n",
    "from selenium import webdriver\n",
    "from bs4 import BeautifulSoup\n",
    "import unittest, time, re\n",
    "\n",
    "driver = webdriver.Chrome()\n",
    "driver.implicitly_wait(30)\n",
    "driver.get(\"http://justdata.yuanta.com.tw/z/zk/zk00-f.asp\")\n",
    "\n",
    "soup = BeautifulSoup(driver.page_source)\n",
    "print(soup)\n",
    "\n",
    "driver.close()\n",
    "\n"
   ]
  },
  {
   "cell_type": "markdown",
   "metadata": {},
   "source": [
    "### 抓取Maincoin 圖表"
   ]
  },
  {
   "cell_type": "code",
   "execution_count": 31,
   "metadata": {
    "collapsed": false
   },
   "outputs": [],
   "source": [
    "# -*- coding: utf-8 -*-\n",
    "from selenium import webdriver\n",
    "\n",
    "driver = webdriver.Chrome()\n",
    "driver.implicitly_wait(30)\n",
    "driver.get(\"https://www.maicoin.com/zh-TW/charts/eth\")\n",
    "\n",
    "cookies = driver.get_cookies()\n",
    "page = driver.page_source\n",
    "driver.close()\n",
    "\n"
   ]
  },
  {
   "cell_type": "code",
   "execution_count": 26,
   "metadata": {
    "collapsed": false
   },
   "outputs": [
    {
     "data": {
      "text/plain": [
       "'_twcoin_session=SktISWljWVUrT1JFQkJWYVNRMGhCcVFyc2V0V2lQeDAyNi84Um5BbzQ2cnVuRXAxMEdFQWxMWlRVWXZ3L1V2aE4yK0VmZ2ZhVGxldkwyRW1XY0Z5UGpUU3NScStacUlsSlpucG5NS2ZMT1ZPeXpZZXlXOXhOQlhsYTJ1eWxIaDBTSURBenk1a3F2OE53NU1saGtSODV3PT0tLWlXTnJJQ3dSL0NDYURCbXFkODl6S1E9PQ%3D%3D--c0f1ab637220de9af736b204a7da3ffce7eb3700;visid_incap_160122=MMdllGpxS8GHHwxUFs9sfTyBBVkAAAAAQUIPAAAAAADmmjkHBKntL/DXk2Eqym2O;incap_ses_401_160122=QqLubFi5Uxrcqs7ga6SQBTyBBVkAAAAAK/A4lenvugcnwj8/B+i62w==;currency=InR3ZCI%3D--6eec4eff818e386526edfcc1b4af684de0367230;_gat=1;_ga=GA1.2.838986848.1493532991;locale=InpoLVRXIg%3D%3D--a65135f98901cde92d397aef024641fac25550a3'"
      ]
     },
     "execution_count": 26,
     "metadata": {},
     "output_type": "execute_result"
    }
   ],
   "source": [
    "ary = []\n",
    "for c in cookies:\n",
    "    ary.append('{}={}'.format(c['name'], c['value'] ))\n",
    "';'.join(ary)"
   ]
  },
  {
   "cell_type": "code",
   "execution_count": 39,
   "metadata": {
    "collapsed": false
   },
   "outputs": [],
   "source": [
    "token = ';'.join(['{}={}'.format(c['name'], c['value'] ) for c in cookies])"
   ]
  },
  {
   "cell_type": "code",
   "execution_count": 40,
   "metadata": {
    "collapsed": false
   },
   "outputs": [
    {
     "data": {
      "text/plain": [
       "'S28X0dLRBS1Zyct45VCtPWw6sEoNOraV/cZ3poFIU8HpEcfLk88SE7p4eF8LCqH0RaDSgJ6GGd9Ml7XAO8NbtA=='"
      ]
     },
     "execution_count": 40,
     "metadata": {},
     "output_type": "execute_result"
    }
   ],
   "source": [
    "from bs4 import BeautifulSoup\n",
    "soup = BeautifulSoup(page, 'html.parser')\n",
    "csrf_token = soup.select('meta[name==csrf-token]')[0]['content']\n",
    "csrf_token"
   ]
  },
  {
   "cell_type": "code",
   "execution_count": 42,
   "metadata": {
    "collapsed": false
   },
   "outputs": [],
   "source": [
    "import requests\n",
    "url = 'https://www.maicoin.com/zh-TW/trade_summaries/eth?from=2016-10-30+12%3A28%3A36+%2B0800'\n",
    "headers = {\n",
    "'User-Agent':'Mozilla/5.0 (Windows NT 6.1; WOW64) AppleWebKit/537.36 (KHTML, like Gecko) Chrome/57.0.2987.133 Safari/537.36',    \n",
    "'X-CSRF-Token':csrf_token,\n",
    "'X-Requested-With':'XMLHttpRequest',\n",
    "'Cookie': token\n",
    "#'Cookie':'visid_incap_160122=A4M8eBbASIaPyLW3MJIJYNgCmFgAAAAAQUIPAAAAAAA7/GYrbtr5cmWspDT0H104; incap_ses_406_160122=nZjQBKxLIWmLw8xOwmiiBSms/VgAAAAA0m4czHtPg0qs2V4fifg5GQ==; _okdetect=%7B%22token%22%3A%2214930196967490%22%2C%22proto%22%3A%22https%3A%22%2C%22host%22%3A%22www.maicoin.com%22%7D; _ok=2909-208-10-2973; incap_ses_576_160122=Lih9QmR8Bg+J0R5VIV3+B2Su/VgAAAAAFUCyE9XInLZ6KGqR1t+wHg==; _okac=2dc9c7c45a697160aa9a474371086c3f; _okla=1; _hjIncludedInSample=1; incap_ses_200_160122=lVvIE8D05jIxARGNRIvGAmSC/1gAAAAAUCJpluS0XIucsgAadH2mTw==; _hjMinimizedPolls=50467; last_sign_in_at=2017-04-29+21%3A21%3A21+%2B0800; _okbk=cd4%3Dtrue%2Cvi5%3D0%2Cvi4%3D1493478210836%2Cvi3%3Dactive%2Cvi2%3Dfalse%2Cvi1%3Dfalse%2Ccd8%3Dchat%2Ccd6%3D0%2Ccd5%3Daway%2Ccd3%3Dfalse%2Ccd2%3D0%2Ccd1%3D0%2C; olfsk=olfsk5239368130145221; wcsid=2oAH2ywU6fYUhMzF3Z2JK0H8RE0PPobT; hblid=WFEmWdozZE4GfEAz3Z2JK5u1CH3RE0O6; _oklv=1493479241401%2C2oAH2ywU6fYUhMzF3Z2JK0H8RE0PPobT; incap_ses_627_160122=kATPYGYslUGAuJ/fRI2zCOUNBVkAAAAAeW5uFiLXoEawbI5gCmO29g==; incap_ses_401_160122=VFphQTzanTK4Hanga6SQBa5nBVkAAAAAark7up57FDFpElkuB+YPeg==; locale=InpoLVRXIg%3D%3D--a65135f98901cde92d397aef024641fac25550a3; currency=InR3ZCI%3D--6eec4eff818e386526edfcc1b4af684de0367230; _twcoin_session=RUtHZm9ZdnlXdjhnWjZGVkZVcm1nZC9HU3dVUU9OcTQ4UldSUXhhQTJnb1ZyQnVqSGNJbHo2SHBLUEhYUzFtWEltcEswajJiNE9ueXEwWHNudHVacnVaeTYyS0VjME1hL2hNYjlrQzZNZVRtd25pcUl6NVFUQjBlaW55aTBsaXRJS2VsNFhNUmxOaWpSdENLU0lpZ3hBPT0tLUFYb1FOaXNxczEraFpTUG5nTVRWMFE9PQ%3D%3D--6285e1cd54e1a4dccb638137c0497b2c00f19363; _ga=GA1.2.896472302.1486357208; _gat=1'\n",
    "}\n",
    "payload = {'from':'2016-10-30 12:28:36 +0800'}\n",
    "res = requests.post(url , data = payload, headers = headers)\n",
    "#print(res.text)"
   ]
  },
  {
   "cell_type": "markdown",
   "metadata": {},
   "source": [
    "## 分點買賣日報表"
   ]
  },
  {
   "cell_type": "code",
   "execution_count": 66,
   "metadata": {
    "collapsed": false
   },
   "outputs": [],
   "source": [
    "import requests\n",
    "from bs4 import BeautifulSoup\n",
    "rs  = requests.session()\n",
    "res = rs.get('http://bsr.twse.com.tw/bshtm/bsMenu.aspx')\n",
    "soup = BeautifulSoup(res.text, 'html.parser')"
   ]
  },
  {
   "cell_type": "code",
   "execution_count": 67,
   "metadata": {
    "collapsed": false
   },
   "outputs": [],
   "source": [
    "captcha = soup.select('img')[1]['src']"
   ]
  },
  {
   "cell_type": "code",
   "execution_count": 68,
   "metadata": {
    "collapsed": false
   },
   "outputs": [],
   "source": [
    "captuaurl = 'http://bsr.twse.com.tw/bshtm/' + captcha\n",
    "with open('captua.jpg', 'wb') as f:\n",
    "    res2 = rs.get(captuaurl)\n",
    "    f.write(res2.content)"
   ]
  },
  {
   "cell_type": "code",
   "execution_count": 69,
   "metadata": {
    "collapsed": false
   },
   "outputs": [
    {
     "data": {
      "image/png": "[encoded data removed]",
      "text/plain": [
       "<PIL.JpegImagePlugin.JpegImageFile image mode=RGB size=200x60 at 0x7C152B0>"
      ]
     },
     "execution_count": 69,
     "metadata": {},
     "output_type": "execute_result"
    }
   ],
   "source": [
    "from PIL import Image\n",
    "Image.open('captua.jpg')"
   ]
  },
  {
   "cell_type": "code",
   "execution_count": 75,
   "metadata": {
    "collapsed": false
   },
   "outputs": [],
   "source": [
    "payload  = {    \n",
    "'RadioButton_Normal':'RadioButton_Normal',\n",
    "'TextBox_Stkno':'5478',\n",
    "'CaptchaControl1':'XPZZA',\n",
    "'btnOK':'查詢',    \n",
    "}\n",
    "for item in soup.select('input[type==hidden]'):\n",
    "    payload[item['name']] = item['value']"
   ]
  },
  {
   "cell_type": "code",
   "execution_count": 76,
   "metadata": {
    "collapsed": false
   },
   "outputs": [
    {
     "data": {
      "text/plain": [
       "{'CaptchaControl1': 'XPZZA',\n",
       " 'RadioButton_Normal': 'RadioButton_Normal',\n",
       " 'TextBox_Stkno': '5478',\n",
       " '__EVENTVALIDATION': '/wEdAAbw6v8h+/UTSWOa5LLmhb17fMmuxAJNAJcNkRRsVeJwwqKURZav/+YrVMqaWE2hvMxJwK4Ohf3nRgXHkFhQen1PRSciNdPYWmINCrip1wqw01PJCA0uL9aE2sjICZqv6GriBM2Ryg2lq58J1IAB+Azq',\n",
       " '__VIEWSTATE': '/wEPDwUJOTAxMjkxMjg3D2QWAgIDD2QWBAIBD2QWAmYPZBYEZg9kFgJmDxAPFgYeB0NoZWNrZWRnHglGb3JlQ29sb3IKAB4EXyFTQgIEZGRkZAIBD2QWAgIBDw8WBB8BCgAfAgIEZGQCAw9kFgQCAw8PFgIeBFRleHRlZGQCCQ8PFgIeB1Zpc2libGVoZGQYAgUeX19Db250cm9sc1JlcXVpcmVQb3N0QmFja0tleV9fFgMFElJhZGlvQnV0dG9uX05vcm1hbAUQUmFkaW9CdXR0b25fRXhjZAUQUmFkaW9CdXR0b25fRXhjZAUPQ2FwdGNoYUNvbnRyb2wxDwUkNTM1ODY5MzAtYmQ1NS00Mjg2LThiN2YtNzk4MjVjZWYyMmQ4ZKagd2f5IOzBkOurd9saMV8=',\n",
       " 'btnOK': '查詢'}"
      ]
     },
     "execution_count": 76,
     "metadata": {},
     "output_type": "execute_result"
    }
   ],
   "source": [
    "payload"
   ]
  },
  {
   "cell_type": "code",
   "execution_count": 79,
   "metadata": {
    "collapsed": true
   },
   "outputs": [],
   "source": [
    "res3 = rs.post('http://bsr.twse.com.tw/bshtm/bsMenu.aspx', data = payload)"
   ]
  },
  {
   "cell_type": "code",
   "execution_count": 80,
   "metadata": {
    "collapsed": false
   },
   "outputs": [
    {
     "data": {
      "text/plain": [
       "''"
      ]
     },
     "execution_count": 80,
     "metadata": {},
     "output_type": "execute_result"
    }
   ],
   "source": [
    "import requests\n",
    "res4 = rs.get('http://bsr.twse.com.tw/bshtm/bsContent.aspx?v=t')\n",
    "res4.text"
   ]
  },
  {
   "cell_type": "markdown",
   "metadata": {},
   "source": [
    "## 正確版本"
   ]
  },
  {
   "cell_type": "code",
   "execution_count": 97,
   "metadata": {
    "collapsed": true
   },
   "outputs": [],
   "source": [
    "import requests\n",
    "from bs4 import BeautifulSoup\n",
    "rs  = requests.session()\n",
    "res = rs.get('http://bsr.twse.com.tw/bshtm/bsMenu.aspx')\n",
    "soup = BeautifulSoup(res.text, 'html.parser')"
   ]
  },
  {
   "cell_type": "code",
   "execution_count": 98,
   "metadata": {
    "collapsed": true
   },
   "outputs": [],
   "source": [
    "payload  = {    \n",
    "'RadioButton_Normal':'RadioButton_Normal',\n",
    "'TextBox_Stkno':'2353',\n",
    "#'CaptchaControl1':'XPZZA',\n",
    "'btnOK':'查詢',    \n",
    "}\n",
    "for item in soup.select('input[type==hidden]'):\n",
    "    payload[item['name']] = item['value']"
   ]
  },
  {
   "cell_type": "code",
   "execution_count": 99,
   "metadata": {
    "collapsed": true
   },
   "outputs": [],
   "source": [
    "res3 = rs.post('http://bsr.twse.com.tw/bshtm/bsMenu.aspx', data = payload)"
   ]
  },
  {
   "cell_type": "code",
   "execution_count": 101,
   "metadata": {
    "collapsed": false
   },
   "outputs": [],
   "source": [
    "import requests\n",
    "#http://bsr.twse.com.tw/bshtm/bsContent.aspx\n",
    "res4 = rs.get('http://bsr.twse.com.tw/bshtm/bsContent.aspx')\n",
    "with open('2353.csv', 'w') as f:\n",
    "    f.write(res4.text)"
   ]
  },
  {
   "cell_type": "markdown",
   "metadata": {},
   "source": [
    "## 櫃買中心"
   ]
  },
  {
   "cell_type": "code",
   "execution_count": 107,
   "metadata": {
    "collapsed": false
   },
   "outputs": [],
   "source": [
    "import requests\n",
    "payload = {\n",
    "'enname':'%9Ah%B37%1B%C1T6%BA%0A%F9%D9%05%9AW%A1',\n",
    "'stk_code':'1259',\n",
    "'auth_num':'D9JIG',    \n",
    "}\n",
    "res = requests.post('http://www.tpex.org.tw/web/stock/aftertrading/broker_trading/brokerBS.php?l=zh-tw', data = payload)\n",
    "res.encoding = 'utf-8'\n",
    "#res.text"
   ]
  },
  {
   "cell_type": "code",
   "execution_count": 105,
   "metadata": {
    "collapsed": true
   },
   "outputs": [],
   "source": [
    "with open('1259.csv', 'wb') as f:\n",
    "    res = requests.get('http://www.tpex.org.tw/web/stock/aftertrading/broker_trading/download_ALLCSV.php?curstk=1259&stk_date=1060428&auth=D9JIG&n=%9Ah%B37%1B%C1T6%BA%0A%F9%D9%05%9AW%A1')\n",
    "    f.write(res.content)"
   ]
  },
  {
   "cell_type": "code",
   "execution_count": 106,
   "metadata": {
    "collapsed": true
   },
   "outputs": [],
   "source": [
    "with open('4120.csv', 'wb') as f:\n",
    "    res = requests.get('http://www.tpex.org.tw/web/stock/aftertrading/broker_trading/download_ALLCSV.php?curstk=4120&stk_date=1060428&auth=D9JIG&n=%9Ah%B37%1B%C1T6%BA%0A%F9%D9%05%9AW%A1')\n",
    "    f.write(res.content)"
   ]
  },
  {
   "cell_type": "markdown",
   "metadata": {},
   "source": [
    "## 從Google Trend 分析金融交易行為"
   ]
  },
  {
   "cell_type": "code",
   "execution_count": 130,
   "metadata": {
    "collapsed": true
   },
   "outputs": [],
   "source": [
    "import pandas\n",
    "data = pandas.read_csv('data/GoogleTrendsData.csv', index_col='Date')"
   ]
  },
  {
   "cell_type": "code",
   "execution_count": 131,
   "metadata": {
    "collapsed": false
   },
   "outputs": [
    {
     "name": "stdout",
     "output_type": "stream",
     "text": [
      "<class 'pandas.core.frame.DataFrame'>\n",
      "Index: 373 entries, 2004-01-14 to 2011-03-02\n",
      "Data columns (total 2 columns):\n",
      "djia    373 non-null float64\n",
      "debt    373 non-null float64\n",
      "dtypes: float64(2)\n",
      "memory usage: 8.7+ KB\n"
     ]
    }
   ],
   "source": [
    "data.info()"
   ]
  },
  {
   "cell_type": "code",
   "execution_count": 132,
   "metadata": {
    "collapsed": false
   },
   "outputs": [
    {
     "name": "stdout",
     "output_type": "stream",
     "text": [
      "Populating the interactive namespace from numpy and matplotlib\n"
     ]
    }
   ],
   "source": [
    "%pylab inline"
   ]
  },
  {
   "cell_type": "code",
   "execution_count": 133,
   "metadata": {
    "collapsed": false
   },
   "outputs": [
    {
     "data": {
      "text/plain": [
       "array([<matplotlib.axes._subplots.AxesSubplot object at 0x000000000C530400>,\n",
       "       <matplotlib.axes._subplots.AxesSubplot object at 0x000000000C5E27B8>], dtype=object)"
      ]
     },
     "execution_count": 133,
     "metadata": {},
     "output_type": "execute_result"
    },
    {
     "data": {
      "image/png": "[encoded data removed]",
      "text/plain": [
       "<matplotlib.figure.Figure at 0xc403860>"
      ]
     },
     "metadata": {},
     "output_type": "display_data"
    }
   ],
   "source": [
    "#data.plot(kind = 'line')\n",
    "data.plot(kind = 'line', subplots=True)"
   ]
  },
  {
   "cell_type": "code",
   "execution_count": 134,
   "metadata": {
    "collapsed": false
   },
   "outputs": [],
   "source": [
    "data['debt_mavg'] = data['debt'].rolling(window= 3).mean()"
   ]
  },
  {
   "cell_type": "code",
   "execution_count": 135,
   "metadata": {
    "collapsed": false
   },
   "outputs": [
    {
     "data": {
      "text/html": [
       "<div>\n",
       "<table border=\"1\" class=\"dataframe\">\n",
       "  <thead>\n",
       "    <tr style=\"text-align: right;\">\n",
       "      <th></th>\n",
       "      <th>djia</th>\n",
       "      <th>debt</th>\n",
       "      <th>debt_mavg</th>\n",
       "    </tr>\n",
       "    <tr>\n",
       "      <th>Date</th>\n",
       "      <th></th>\n",
       "      <th></th>\n",
       "      <th></th>\n",
       "    </tr>\n",
       "  </thead>\n",
       "  <tbody>\n",
       "    <tr>\n",
       "      <th>2004-01-14</th>\n",
       "      <td>10485.18</td>\n",
       "      <td>0.210000</td>\n",
       "      <td>NaN</td>\n",
       "    </tr>\n",
       "    <tr>\n",
       "      <th>2004-01-22</th>\n",
       "      <td>10528.66</td>\n",
       "      <td>0.210000</td>\n",
       "      <td>NaN</td>\n",
       "    </tr>\n",
       "    <tr>\n",
       "      <th>2004-01-28</th>\n",
       "      <td>10702.51</td>\n",
       "      <td>0.210000</td>\n",
       "      <td>0.210000</td>\n",
       "    </tr>\n",
       "    <tr>\n",
       "      <th>2004-02-04</th>\n",
       "      <td>10499.18</td>\n",
       "      <td>0.213333</td>\n",
       "      <td>0.211111</td>\n",
       "    </tr>\n",
       "    <tr>\n",
       "      <th>2004-02-11</th>\n",
       "      <td>10579.03</td>\n",
       "      <td>0.200000</td>\n",
       "      <td>0.207778</td>\n",
       "    </tr>\n",
       "  </tbody>\n",
       "</table>\n",
       "</div>"
      ],
      "text/plain": [
       "                djia      debt  debt_mavg\n",
       "Date                                     \n",
       "2004-01-14  10485.18  0.210000        NaN\n",
       "2004-01-22  10528.66  0.210000        NaN\n",
       "2004-01-28  10702.51  0.210000   0.210000\n",
       "2004-02-04  10499.18  0.213333   0.211111\n",
       "2004-02-11  10579.03  0.200000   0.207778"
      ]
     },
     "execution_count": 135,
     "metadata": {},
     "output_type": "execute_result"
    }
   ],
   "source": [
    "data.head()"
   ]
  },
  {
   "cell_type": "code",
   "execution_count": 136,
   "metadata": {
    "collapsed": false
   },
   "outputs": [
    {
     "data": {
      "text/plain": [
       "<matplotlib.axes._subplots.AxesSubplot at 0xc680be0>"
      ]
     },
     "execution_count": 136,
     "metadata": {},
     "output_type": "execute_result"
    },
    {
     "data": {
      "image/png": "[encoded data removed]",
      "text/plain": [
       "<matplotlib.figure.Figure at 0xc692c50>"
      ]
     },
     "metadata": {},
     "output_type": "display_data"
    }
   ],
   "source": [
    "data[['debt', 'debt_mavg']].plot(kind = 'line', rot=30)"
   ]
  },
  {
   "cell_type": "code",
   "execution_count": 137,
   "metadata": {
    "collapsed": false
   },
   "outputs": [],
   "source": [
    "data['debt_mavg'] = data['debt_mavg'].shift(1)"
   ]
  },
  {
   "cell_type": "code",
   "execution_count": 138,
   "metadata": {
    "collapsed": false
   },
   "outputs": [
    {
     "data": {
      "text/html": [
       "<div>\n",
       "<table border=\"1\" class=\"dataframe\">\n",
       "  <thead>\n",
       "    <tr style=\"text-align: right;\">\n",
       "      <th></th>\n",
       "      <th>djia</th>\n",
       "      <th>debt</th>\n",
       "      <th>debt_mavg</th>\n",
       "    </tr>\n",
       "    <tr>\n",
       "      <th>Date</th>\n",
       "      <th></th>\n",
       "      <th></th>\n",
       "      <th></th>\n",
       "    </tr>\n",
       "  </thead>\n",
       "  <tbody>\n",
       "    <tr>\n",
       "      <th>2004-01-14</th>\n",
       "      <td>10485.18</td>\n",
       "      <td>0.210000</td>\n",
       "      <td>NaN</td>\n",
       "    </tr>\n",
       "    <tr>\n",
       "      <th>2004-01-22</th>\n",
       "      <td>10528.66</td>\n",
       "      <td>0.210000</td>\n",
       "      <td>NaN</td>\n",
       "    </tr>\n",
       "    <tr>\n",
       "      <th>2004-01-28</th>\n",
       "      <td>10702.51</td>\n",
       "      <td>0.210000</td>\n",
       "      <td>NaN</td>\n",
       "    </tr>\n",
       "    <tr>\n",
       "      <th>2004-02-04</th>\n",
       "      <td>10499.18</td>\n",
       "      <td>0.213333</td>\n",
       "      <td>0.210000</td>\n",
       "    </tr>\n",
       "    <tr>\n",
       "      <th>2004-02-11</th>\n",
       "      <td>10579.03</td>\n",
       "      <td>0.200000</td>\n",
       "      <td>0.211111</td>\n",
       "    </tr>\n",
       "  </tbody>\n",
       "</table>\n",
       "</div>"
      ],
      "text/plain": [
       "                djia      debt  debt_mavg\n",
       "Date                                     \n",
       "2004-01-14  10485.18  0.210000        NaN\n",
       "2004-01-22  10528.66  0.210000        NaN\n",
       "2004-01-28  10702.51  0.210000        NaN\n",
       "2004-02-04  10499.18  0.213333   0.210000\n",
       "2004-02-11  10579.03  0.200000   0.211111"
      ]
     },
     "execution_count": 138,
     "metadata": {},
     "output_type": "execute_result"
    }
   ],
   "source": [
    "data.head()"
   ]
  },
  {
   "cell_type": "code",
   "execution_count": 139,
   "metadata": {
    "collapsed": true
   },
   "outputs": [],
   "source": [
    "data['order'] = 0"
   ]
  },
  {
   "cell_type": "code",
   "execution_count": 140,
   "metadata": {
    "collapsed": false
   },
   "outputs": [
    {
     "data": {
      "text/html": [
       "<div>\n",
       "<table border=\"1\" class=\"dataframe\">\n",
       "  <thead>\n",
       "    <tr style=\"text-align: right;\">\n",
       "      <th></th>\n",
       "      <th>djia</th>\n",
       "      <th>debt</th>\n",
       "      <th>debt_mavg</th>\n",
       "      <th>order</th>\n",
       "    </tr>\n",
       "    <tr>\n",
       "      <th>Date</th>\n",
       "      <th></th>\n",
       "      <th></th>\n",
       "      <th></th>\n",
       "      <th></th>\n",
       "    </tr>\n",
       "  </thead>\n",
       "  <tbody>\n",
       "    <tr>\n",
       "      <th>2004-01-14</th>\n",
       "      <td>10485.18</td>\n",
       "      <td>0.210000</td>\n",
       "      <td>NaN</td>\n",
       "      <td>0</td>\n",
       "    </tr>\n",
       "    <tr>\n",
       "      <th>2004-01-22</th>\n",
       "      <td>10528.66</td>\n",
       "      <td>0.210000</td>\n",
       "      <td>NaN</td>\n",
       "      <td>0</td>\n",
       "    </tr>\n",
       "    <tr>\n",
       "      <th>2004-01-28</th>\n",
       "      <td>10702.51</td>\n",
       "      <td>0.210000</td>\n",
       "      <td>NaN</td>\n",
       "      <td>0</td>\n",
       "    </tr>\n",
       "    <tr>\n",
       "      <th>2004-02-04</th>\n",
       "      <td>10499.18</td>\n",
       "      <td>0.213333</td>\n",
       "      <td>0.210000</td>\n",
       "      <td>0</td>\n",
       "    </tr>\n",
       "    <tr>\n",
       "      <th>2004-02-11</th>\n",
       "      <td>10579.03</td>\n",
       "      <td>0.200000</td>\n",
       "      <td>0.211111</td>\n",
       "      <td>0</td>\n",
       "    </tr>\n",
       "  </tbody>\n",
       "</table>\n",
       "</div>"
      ],
      "text/plain": [
       "                djia      debt  debt_mavg  order\n",
       "Date                                            \n",
       "2004-01-14  10485.18  0.210000        NaN      0\n",
       "2004-01-22  10528.66  0.210000        NaN      0\n",
       "2004-01-28  10702.51  0.210000        NaN      0\n",
       "2004-02-04  10499.18  0.213333   0.210000      0\n",
       "2004-02-11  10579.03  0.200000   0.211111      0"
      ]
     },
     "execution_count": 140,
     "metadata": {},
     "output_type": "execute_result"
    }
   ],
   "source": [
    "data.head()"
   ]
  },
  {
   "cell_type": "code",
   "execution_count": 141,
   "metadata": {
    "collapsed": true
   },
   "outputs": [],
   "source": [
    "data.loc[data['debt'] > data['debt_mavg'], 'order'] = -1\n",
    "data.loc[data['debt'] < data['debt_mavg'], 'order'] = 1"
   ]
  },
  {
   "cell_type": "code",
   "execution_count": 142,
   "metadata": {
    "collapsed": false
   },
   "outputs": [
    {
     "data": {
      "text/html": [
       "<div>\n",
       "<table border=\"1\" class=\"dataframe\">\n",
       "  <thead>\n",
       "    <tr style=\"text-align: right;\">\n",
       "      <th></th>\n",
       "      <th>djia</th>\n",
       "      <th>debt</th>\n",
       "      <th>debt_mavg</th>\n",
       "      <th>order</th>\n",
       "    </tr>\n",
       "    <tr>\n",
       "      <th>Date</th>\n",
       "      <th></th>\n",
       "      <th></th>\n",
       "      <th></th>\n",
       "      <th></th>\n",
       "    </tr>\n",
       "  </thead>\n",
       "  <tbody>\n",
       "    <tr>\n",
       "      <th>2004-01-14</th>\n",
       "      <td>10485.18</td>\n",
       "      <td>0.210000</td>\n",
       "      <td>NaN</td>\n",
       "      <td>0</td>\n",
       "    </tr>\n",
       "    <tr>\n",
       "      <th>2004-01-22</th>\n",
       "      <td>10528.66</td>\n",
       "      <td>0.210000</td>\n",
       "      <td>NaN</td>\n",
       "      <td>0</td>\n",
       "    </tr>\n",
       "    <tr>\n",
       "      <th>2004-01-28</th>\n",
       "      <td>10702.51</td>\n",
       "      <td>0.210000</td>\n",
       "      <td>NaN</td>\n",
       "      <td>0</td>\n",
       "    </tr>\n",
       "    <tr>\n",
       "      <th>2004-02-04</th>\n",
       "      <td>10499.18</td>\n",
       "      <td>0.213333</td>\n",
       "      <td>0.210000</td>\n",
       "      <td>-1</td>\n",
       "    </tr>\n",
       "    <tr>\n",
       "      <th>2004-02-11</th>\n",
       "      <td>10579.03</td>\n",
       "      <td>0.200000</td>\n",
       "      <td>0.211111</td>\n",
       "      <td>1</td>\n",
       "    </tr>\n",
       "  </tbody>\n",
       "</table>\n",
       "</div>"
      ],
      "text/plain": [
       "                djia      debt  debt_mavg  order\n",
       "Date                                            \n",
       "2004-01-14  10485.18  0.210000        NaN      0\n",
       "2004-01-22  10528.66  0.210000        NaN      0\n",
       "2004-01-28  10702.51  0.210000        NaN      0\n",
       "2004-02-04  10499.18  0.213333   0.210000     -1\n",
       "2004-02-11  10579.03  0.200000   0.211111      1"
      ]
     },
     "execution_count": 142,
     "metadata": {},
     "output_type": "execute_result"
    }
   ],
   "source": [
    "data.head()"
   ]
  },
  {
   "cell_type": "code",
   "execution_count": 143,
   "metadata": {
    "collapsed": true
   },
   "outputs": [],
   "source": [
    "data['ret_djia'] = data['djia'].pct_change(1)"
   ]
  },
  {
   "cell_type": "code",
   "execution_count": 145,
   "metadata": {
    "collapsed": false
   },
   "outputs": [
    {
     "data": {
      "text/html": [
       "<div>\n",
       "<table border=\"1\" class=\"dataframe\">\n",
       "  <thead>\n",
       "    <tr style=\"text-align: right;\">\n",
       "      <th></th>\n",
       "      <th>djia</th>\n",
       "      <th>debt</th>\n",
       "      <th>debt_mavg</th>\n",
       "      <th>order</th>\n",
       "      <th>ret_djia</th>\n",
       "    </tr>\n",
       "    <tr>\n",
       "      <th>Date</th>\n",
       "      <th></th>\n",
       "      <th></th>\n",
       "      <th></th>\n",
       "      <th></th>\n",
       "      <th></th>\n",
       "    </tr>\n",
       "  </thead>\n",
       "  <tbody>\n",
       "    <tr>\n",
       "      <th>2004-01-14</th>\n",
       "      <td>10485.18</td>\n",
       "      <td>0.210000</td>\n",
       "      <td>NaN</td>\n",
       "      <td>0</td>\n",
       "      <td>NaN</td>\n",
       "    </tr>\n",
       "    <tr>\n",
       "      <th>2004-01-22</th>\n",
       "      <td>10528.66</td>\n",
       "      <td>0.210000</td>\n",
       "      <td>NaN</td>\n",
       "      <td>0</td>\n",
       "      <td>0.004147</td>\n",
       "    </tr>\n",
       "    <tr>\n",
       "      <th>2004-01-28</th>\n",
       "      <td>10702.51</td>\n",
       "      <td>0.210000</td>\n",
       "      <td>NaN</td>\n",
       "      <td>0</td>\n",
       "      <td>0.016512</td>\n",
       "    </tr>\n",
       "    <tr>\n",
       "      <th>2004-02-04</th>\n",
       "      <td>10499.18</td>\n",
       "      <td>0.213333</td>\n",
       "      <td>0.210000</td>\n",
       "      <td>-1</td>\n",
       "      <td>-0.018998</td>\n",
       "    </tr>\n",
       "    <tr>\n",
       "      <th>2004-02-11</th>\n",
       "      <td>10579.03</td>\n",
       "      <td>0.200000</td>\n",
       "      <td>0.211111</td>\n",
       "      <td>1</td>\n",
       "      <td>0.007605</td>\n",
       "    </tr>\n",
       "  </tbody>\n",
       "</table>\n",
       "</div>"
      ],
      "text/plain": [
       "                djia      debt  debt_mavg  order  ret_djia\n",
       "Date                                                      \n",
       "2004-01-14  10485.18  0.210000        NaN      0       NaN\n",
       "2004-01-22  10528.66  0.210000        NaN      0  0.004147\n",
       "2004-01-28  10702.51  0.210000        NaN      0  0.016512\n",
       "2004-02-04  10499.18  0.213333   0.210000     -1 -0.018998\n",
       "2004-02-11  10579.03  0.200000   0.211111      1  0.007605"
      ]
     },
     "execution_count": 145,
     "metadata": {},
     "output_type": "execute_result"
    }
   ],
   "source": [
    "data.head()"
   ]
  },
  {
   "cell_type": "code",
   "execution_count": 147,
   "metadata": {
    "collapsed": false
   },
   "outputs": [],
   "source": [
    "data['ret_djia'] = data['ret_djia'].shift(-1)"
   ]
  },
  {
   "cell_type": "code",
   "execution_count": 149,
   "metadata": {
    "collapsed": false
   },
   "outputs": [
    {
     "data": {
      "text/html": [
       "<div>\n",
       "<table border=\"1\" class=\"dataframe\">\n",
       "  <thead>\n",
       "    <tr style=\"text-align: right;\">\n",
       "      <th></th>\n",
       "      <th>djia</th>\n",
       "      <th>debt</th>\n",
       "      <th>debt_mavg</th>\n",
       "      <th>order</th>\n",
       "      <th>ret_djia</th>\n",
       "    </tr>\n",
       "    <tr>\n",
       "      <th>Date</th>\n",
       "      <th></th>\n",
       "      <th></th>\n",
       "      <th></th>\n",
       "      <th></th>\n",
       "      <th></th>\n",
       "    </tr>\n",
       "  </thead>\n",
       "  <tbody>\n",
       "    <tr>\n",
       "      <th>2004-01-14</th>\n",
       "      <td>10485.18</td>\n",
       "      <td>0.210000</td>\n",
       "      <td>NaN</td>\n",
       "      <td>0</td>\n",
       "      <td>0.004147</td>\n",
       "    </tr>\n",
       "    <tr>\n",
       "      <th>2004-01-22</th>\n",
       "      <td>10528.66</td>\n",
       "      <td>0.210000</td>\n",
       "      <td>NaN</td>\n",
       "      <td>0</td>\n",
       "      <td>0.016512</td>\n",
       "    </tr>\n",
       "    <tr>\n",
       "      <th>2004-01-28</th>\n",
       "      <td>10702.51</td>\n",
       "      <td>0.210000</td>\n",
       "      <td>NaN</td>\n",
       "      <td>0</td>\n",
       "      <td>-0.018998</td>\n",
       "    </tr>\n",
       "    <tr>\n",
       "      <th>2004-02-04</th>\n",
       "      <td>10499.18</td>\n",
       "      <td>0.213333</td>\n",
       "      <td>0.210000</td>\n",
       "      <td>-1</td>\n",
       "      <td>0.007605</td>\n",
       "    </tr>\n",
       "    <tr>\n",
       "      <th>2004-02-11</th>\n",
       "      <td>10579.03</td>\n",
       "      <td>0.200000</td>\n",
       "      <td>0.211111</td>\n",
       "      <td>1</td>\n",
       "      <td>0.012841</td>\n",
       "    </tr>\n",
       "  </tbody>\n",
       "</table>\n",
       "</div>"
      ],
      "text/plain": [
       "                djia      debt  debt_mavg  order  ret_djia\n",
       "Date                                                      \n",
       "2004-01-14  10485.18  0.210000        NaN      0  0.004147\n",
       "2004-01-22  10528.66  0.210000        NaN      0  0.016512\n",
       "2004-01-28  10702.51  0.210000        NaN      0 -0.018998\n",
       "2004-02-04  10499.18  0.213333   0.210000     -1  0.007605\n",
       "2004-02-11  10579.03  0.200000   0.211111      1  0.012841"
      ]
     },
     "execution_count": 149,
     "metadata": {},
     "output_type": "execute_result"
    }
   ],
   "source": [
    "data.head()"
   ]
  },
  {
   "cell_type": "code",
   "execution_count": 152,
   "metadata": {
    "collapsed": false
   },
   "outputs": [],
   "source": [
    "data['ret_google'] = data['ret_djia'] * data['order']"
   ]
  },
  {
   "cell_type": "code",
   "execution_count": 153,
   "metadata": {
    "collapsed": false
   },
   "outputs": [
    {
     "data": {
      "text/html": [
       "<div>\n",
       "<table border=\"1\" class=\"dataframe\">\n",
       "  <thead>\n",
       "    <tr style=\"text-align: right;\">\n",
       "      <th></th>\n",
       "      <th>djia</th>\n",
       "      <th>debt</th>\n",
       "      <th>debt_mavg</th>\n",
       "      <th>order</th>\n",
       "      <th>ret_djia</th>\n",
       "      <th>ret_google</th>\n",
       "    </tr>\n",
       "    <tr>\n",
       "      <th>Date</th>\n",
       "      <th></th>\n",
       "      <th></th>\n",
       "      <th></th>\n",
       "      <th></th>\n",
       "      <th></th>\n",
       "      <th></th>\n",
       "    </tr>\n",
       "  </thead>\n",
       "  <tbody>\n",
       "    <tr>\n",
       "      <th>2004-01-14</th>\n",
       "      <td>10485.18</td>\n",
       "      <td>0.210000</td>\n",
       "      <td>NaN</td>\n",
       "      <td>0</td>\n",
       "      <td>0.004147</td>\n",
       "      <td>0.000000</td>\n",
       "    </tr>\n",
       "    <tr>\n",
       "      <th>2004-01-22</th>\n",
       "      <td>10528.66</td>\n",
       "      <td>0.210000</td>\n",
       "      <td>NaN</td>\n",
       "      <td>0</td>\n",
       "      <td>0.016512</td>\n",
       "      <td>0.000000</td>\n",
       "    </tr>\n",
       "    <tr>\n",
       "      <th>2004-01-28</th>\n",
       "      <td>10702.51</td>\n",
       "      <td>0.210000</td>\n",
       "      <td>NaN</td>\n",
       "      <td>0</td>\n",
       "      <td>-0.018998</td>\n",
       "      <td>-0.000000</td>\n",
       "    </tr>\n",
       "    <tr>\n",
       "      <th>2004-02-04</th>\n",
       "      <td>10499.18</td>\n",
       "      <td>0.213333</td>\n",
       "      <td>0.210000</td>\n",
       "      <td>-1</td>\n",
       "      <td>0.007605</td>\n",
       "      <td>-0.007605</td>\n",
       "    </tr>\n",
       "    <tr>\n",
       "      <th>2004-02-11</th>\n",
       "      <td>10579.03</td>\n",
       "      <td>0.200000</td>\n",
       "      <td>0.211111</td>\n",
       "      <td>1</td>\n",
       "      <td>0.012841</td>\n",
       "      <td>0.012841</td>\n",
       "    </tr>\n",
       "  </tbody>\n",
       "</table>\n",
       "</div>"
      ],
      "text/plain": [
       "                djia      debt  debt_mavg  order  ret_djia  ret_google\n",
       "Date                                                                  \n",
       "2004-01-14  10485.18  0.210000        NaN      0  0.004147    0.000000\n",
       "2004-01-22  10528.66  0.210000        NaN      0  0.016512    0.000000\n",
       "2004-01-28  10702.51  0.210000        NaN      0 -0.018998   -0.000000\n",
       "2004-02-04  10499.18  0.213333   0.210000     -1  0.007605   -0.007605\n",
       "2004-02-11  10579.03  0.200000   0.211111      1  0.012841    0.012841"
      ]
     },
     "execution_count": 153,
     "metadata": {},
     "output_type": "execute_result"
    }
   ],
   "source": [
    "data.head()"
   ]
  },
  {
   "cell_type": "code",
   "execution_count": 160,
   "metadata": {
    "collapsed": false
   },
   "outputs": [
    {
     "data": {
      "text/plain": [
       "<matplotlib.axes._subplots.AxesSubplot at 0xcaed278>"
      ]
     },
     "execution_count": 160,
     "metadata": {},
     "output_type": "execute_result"
    },
    {
     "data": {
      "image/png": "[encoded data removed]",
      "text/plain": [
       "<matplotlib.figure.Figure at 0xcab0c88>"
      ]
     },
     "metadata": {},
     "output_type": "display_data"
    }
   ],
   "source": [
    "(data['ret_google'] + 1).cumprod().plot(kind = 'line', rot=30)"
   ]
  },
  {
   "cell_type": "code",
   "execution_count": 161,
   "metadata": {
    "collapsed": true
   },
   "outputs": [],
   "source": [
    "data['prod_google'] =  (data['ret_google'] + 1).cumprod()\n"
   ]
  },
  {
   "cell_type": "code",
   "execution_count": 159,
   "metadata": {
    "collapsed": false
   },
   "outputs": [
    {
     "data": {
      "text/plain": [
       "<matplotlib.axes._subplots.AxesSubplot at 0xc805d30>"
      ]
     },
     "execution_count": 159,
     "metadata": {},
     "output_type": "execute_result"
    },
    {
     "data": {
      "image/png": "[encoded data removed]",
      "text/plain": [
       "<matplotlib.figure.Figure at 0xc8df6a0>"
      ]
     },
     "metadata": {},
     "output_type": "display_data"
    }
   ],
   "source": [
    "(data['ret_djia'] + 1).cumprod().plot(kind = 'line',rot = 30)"
   ]
  },
  {
   "cell_type": "code",
   "execution_count": 162,
   "metadata": {
    "collapsed": true
   },
   "outputs": [],
   "source": [
    "data['prod_djia'] =  (data['ret_djia'] + 1).cumprod()\n"
   ]
  },
  {
   "cell_type": "code",
   "execution_count": 165,
   "metadata": {
    "collapsed": false
   },
   "outputs": [
    {
     "data": {
      "text/plain": [
       "<matplotlib.axes._subplots.AxesSubplot at 0xca9e7b8>"
      ]
     },
     "execution_count": 165,
     "metadata": {},
     "output_type": "execute_result"
    },
    {
     "data": {
      "image/png": "[encoded data removed]",
      "text/plain": [
       "<matplotlib.figure.Figure at 0xcb353c8>"
      ]
     },
     "metadata": {},
     "output_type": "display_data"
    }
   ],
   "source": [
    "data[['prod_djia', 'prod_google']].plot(kind= 'line')"
   ]
  }
 ],
 "metadata": {
  "kernelspec": {
   "display_name": "Python 3",
   "language": "python",
   "name": "python3"
  },
  "language_info": {
   "codemirror_mode": {
    "name": "ipython",
    "version": 3
   },
   "file_extension": ".py",
   "mimetype": "text/x-python",
   "name": "python",
   "nbconvert_exporter": "python",
   "pygments_lexer": "ipython3",
   "version": "3.6.0"
  }
 },
 "nbformat": 4,
 "nbformat_minor": 2
}
