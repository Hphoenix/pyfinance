{
 "cells": [
  {
   "cell_type": "markdown",
   "metadata": {},
   "source": [
    "## 抓取半導體業EPS 資訊"
   ]
  },
  {
   "cell_type": "code",
   "execution_count": 2,
   "metadata": {
    "collapsed": true
   },
   "outputs": [],
   "source": [
    "import requests\n",
    "url = 'http://mops.twse.com.tw/mops/web/ajax_t163sb19'\n",
    "payload = {\n",
    "    'encodeURIComponent':'1',\n",
    "    'step':'1',\n",
    "    'firstin':'1',\n",
    "    'TYPEK':'sii',\n",
    "    'code':'24',\n",
    "    'year':'105',\n",
    "    'season':'01'\n",
    "}\n",
    "res = requests.post(url , data = payload)"
   ]
  },
  {
   "cell_type": "code",
   "execution_count": 7,
   "metadata": {
    "collapsed": false
   },
   "outputs": [],
   "source": [
    "res.encoding = 'utf-8'\n",
    "#res.text"
   ]
  },
  {
   "cell_type": "markdown",
   "metadata": {},
   "source": [
    "## 使用Pandas 讀取表格資料"
   ]
  },
  {
   "cell_type": "code",
   "execution_count": 22,
   "metadata": {
    "collapsed": true
   },
   "outputs": [],
   "source": [
    "import pandas\n",
    "dfs = pandas.read_html(res.text, header=0)"
   ]
  },
  {
   "cell_type": "code",
   "execution_count": 23,
   "metadata": {
    "collapsed": false
   },
   "outputs": [
    {
     "data": {
      "text/plain": [
       "list"
      ]
     },
     "execution_count": 23,
     "metadata": {},
     "output_type": "execute_result"
    }
   ],
   "source": [
    "type(dfs)"
   ]
  },
  {
   "cell_type": "code",
   "execution_count": 24,
   "metadata": {
    "collapsed": false
   },
   "outputs": [
    {
     "data": {
      "text/plain": [
       "1"
      ]
     },
     "execution_count": 24,
     "metadata": {},
     "output_type": "execute_result"
    }
   ],
   "source": [
    "len(dfs)"
   ]
  },
  {
   "cell_type": "code",
   "execution_count": 25,
   "metadata": {
    "collapsed": false
   },
   "outputs": [],
   "source": [
    "stockdf = dfs[0]"
   ]
  },
  {
   "cell_type": "code",
   "execution_count": 26,
   "metadata": {
    "collapsed": false
   },
   "outputs": [
    {
     "data": {
      "text/plain": [
       "pandas.core.frame.DataFrame"
      ]
     },
     "execution_count": 26,
     "metadata": {},
     "output_type": "execute_result"
    }
   ],
   "source": [
    "type(stockdf)"
   ]
  },
  {
   "cell_type": "code",
   "execution_count": 27,
   "metadata": {
    "collapsed": false
   },
   "outputs": [
    {
     "data": {
      "text/plain": [
       "Index(['公司代號', '公司名稱', '產業別', '基本每股盈餘(元)', '普通股每股面額', '營業收入', '營業利益',\n",
       "       '營業外收入及支出', '稅後淨利'],\n",
       "      dtype='object')"
      ]
     },
     "execution_count": 27,
     "metadata": {},
     "output_type": "execute_result"
    }
   ],
   "source": [
    "stockdf.columns"
   ]
  },
  {
   "cell_type": "code",
   "execution_count": 35,
   "metadata": {
    "collapsed": false
   },
   "outputs": [
    {
     "data": {
      "text/plain": [
       "0    False\n",
       "1     True\n",
       "2    False\n",
       "3    False\n",
       "4    False\n",
       "Name: 公司代號, dtype: bool"
      ]
     },
     "execution_count": 35,
     "metadata": {},
     "output_type": "execute_result"
    }
   ],
   "source": [
    "# contains 檢查理面有沒有包含特定文字\n",
    "stockdf['公司代號'].str.contains('基本').head()"
   ]
  },
  {
   "cell_type": "markdown",
   "metadata": {},
   "source": [
    "## 使用正規表達法篩選資料"
   ]
  },
  {
   "cell_type": "code",
   "execution_count": 76,
   "metadata": {
    "collapsed": false
   },
   "outputs": [
    {
     "data": {
      "text/html": [
       "<div>\n",
       "<table border=\"1\" class=\"dataframe\">\n",
       "  <thead>\n",
       "    <tr style=\"text-align: right;\">\n",
       "      <th></th>\n",
       "      <th>公司代號</th>\n",
       "      <th>公司名稱</th>\n",
       "      <th>產業別</th>\n",
       "      <th>基本每股盈餘(元)</th>\n",
       "      <th>普通股每股面額</th>\n",
       "      <th>營業收入</th>\n",
       "      <th>營業利益</th>\n",
       "      <th>營業外收入及支出</th>\n",
       "      <th>稅後淨利</th>\n",
       "    </tr>\n",
       "  </thead>\n",
       "  <tbody>\n",
       "    <tr>\n",
       "      <th>0</th>\n",
       "      <td>6415</td>\n",
       "      <td>矽力杰股份有限公司</td>\n",
       "      <td>半導體業</td>\n",
       "      <td>3.09</td>\n",
       "      <td>新台幣 10.0000元</td>\n",
       "      <td>1317347.0</td>\n",
       "      <td>234500.0</td>\n",
       "      <td>14642.0</td>\n",
       "      <td>238548.0</td>\n",
       "    </tr>\n",
       "    <tr>\n",
       "      <th>2</th>\n",
       "      <td>2454</td>\n",
       "      <td>聯發科技股份有限公司</td>\n",
       "      <td>半導體業</td>\n",
       "      <td>2.79</td>\n",
       "      <td>新台幣 10.0000元</td>\n",
       "      <td>55905486.0</td>\n",
       "      <td>4403092.0</td>\n",
       "      <td>875095.0</td>\n",
       "      <td>4472987.0</td>\n",
       "    </tr>\n",
       "    <tr>\n",
       "      <th>3</th>\n",
       "      <td>2330</td>\n",
       "      <td>台灣積體電路製造股份有限公司</td>\n",
       "      <td>半導體業</td>\n",
       "      <td>2.50</td>\n",
       "      <td>新台幣 10.0000元</td>\n",
       "      <td>203495361.0</td>\n",
       "      <td>70467314.0</td>\n",
       "      <td>1788585.0</td>\n",
       "      <td>64792597.0</td>\n",
       "    </tr>\n",
       "  </tbody>\n",
       "</table>\n",
       "</div>"
      ],
      "text/plain": [
       "   公司代號            公司名稱   產業別  基本每股盈餘(元)       普通股每股面額         營業收入  \\\n",
       "0  6415       矽力杰股份有限公司  半導體業       3.09  新台幣 10.0000元    1317347.0   \n",
       "2  2454      聯發科技股份有限公司  半導體業       2.79  新台幣 10.0000元   55905486.0   \n",
       "3  2330  台灣積體電路製造股份有限公司  半導體業       2.50  新台幣 10.0000元  203495361.0   \n",
       "\n",
       "         營業利益   營業外收入及支出        稅後淨利  \n",
       "0    234500.0    14642.0    238548.0  \n",
       "2   4403092.0   875095.0   4472987.0  \n",
       "3  70467314.0  1788585.0  64792597.0  "
      ]
     },
     "execution_count": 76,
     "metadata": {},
     "output_type": "execute_result"
    }
   ],
   "source": [
    "# match 可以允許你使用正規表達法檢查\n",
    "#stockdf['公司代號'].str.match('^[0-9]')\n",
    "stockdf = stockdf[stockdf['公司代號'].str.match('^[0-9]')]\n",
    "stockdf.head(3)"
   ]
  },
  {
   "cell_type": "markdown",
   "metadata": {},
   "source": [
    "## 抓取所有上市公司EPS 資訊"
   ]
  },
  {
   "cell_type": "code",
   "execution_count": 1,
   "metadata": {
    "collapsed": false
   },
   "outputs": [],
   "source": [
    "import requests\n",
    "import pandas\n",
    "url = 'http://mops.twse.com.tw/mops/web/ajax_t163sb19'\n",
    "payload = {\n",
    "    'encodeURIComponent':'1',\n",
    "    'step':'1',\n",
    "    'firstin':'1',\n",
    "    'TYPEK':'sii',\n",
    "    'code':'',\n",
    "    'year':'105',\n",
    "    'season':'01'\n",
    "}\n",
    "res = requests.post(url , data = payload)\n",
    "res.encoding = 'utf-8'\n",
    "dfs = pandas.read_html(res.text, header=0)"
   ]
  },
  {
   "cell_type": "code",
   "execution_count": 2,
   "metadata": {
    "collapsed": false
   },
   "outputs": [
    {
     "data": {
      "text/plain": [
       "28"
      ]
     },
     "execution_count": 2,
     "metadata": {},
     "output_type": "execute_result"
    }
   ],
   "source": [
    "len(dfs)"
   ]
  },
  {
   "cell_type": "code",
   "execution_count": 6,
   "metadata": {
    "collapsed": false
   },
   "outputs": [],
   "source": [
    "dfall = []\n",
    "for df in dfs:\n",
    "    df = df[df['公司代號'].str.match('^[0-9]')]\n",
    "    dfall.append(df)"
   ]
  },
  {
   "cell_type": "code",
   "execution_count": 7,
   "metadata": {
    "collapsed": false
   },
   "outputs": [
    {
     "data": {
      "text/plain": [
       "28"
      ]
     },
     "execution_count": 7,
     "metadata": {},
     "output_type": "execute_result"
    }
   ],
   "source": [
    "len(dfall)"
   ]
  },
  {
   "cell_type": "code",
   "execution_count": 8,
   "metadata": {
    "collapsed": false
   },
   "outputs": [],
   "source": [
    "stockdf = pandas.concat(dfall, ignore_index=True)"
   ]
  },
  {
   "cell_type": "markdown",
   "metadata": {},
   "source": [
    "## 使用Pandas 做分析"
   ]
  },
  {
   "cell_type": "code",
   "execution_count": 9,
   "metadata": {
    "collapsed": false
   },
   "outputs": [
    {
     "name": "stdout",
     "output_type": "stream",
     "text": [
      "<class 'pandas.core.frame.DataFrame'>\n",
      "RangeIndex: 888 entries, 0 to 887\n",
      "Data columns (total 9 columns):\n",
      "公司代號         888 non-null object\n",
      "公司名稱         888 non-null object\n",
      "產業別          888 non-null object\n",
      "基本每股盈餘(元)    888 non-null float64\n",
      "普通股每股面額      888 non-null object\n",
      "營業收入         888 non-null float64\n",
      "營業利益         888 non-null object\n",
      "營業外收入及支出     888 non-null object\n",
      "稅後淨利         888 non-null float64\n",
      "dtypes: float64(3), object(6)\n",
      "memory usage: 62.5+ KB\n"
     ]
    }
   ],
   "source": [
    "stockdf.info()"
   ]
  },
  {
   "cell_type": "code",
   "execution_count": 111,
   "metadata": {
    "collapsed": false
   },
   "outputs": [
    {
     "data": {
      "text/html": [
       "<div>\n",
       "<table border=\"1\" class=\"dataframe\">\n",
       "  <thead>\n",
       "    <tr style=\"text-align: right;\">\n",
       "      <th></th>\n",
       "      <th>基本每股盈餘(元)</th>\n",
       "      <th>營業收入</th>\n",
       "      <th>稅後淨利</th>\n",
       "    </tr>\n",
       "  </thead>\n",
       "  <tbody>\n",
       "    <tr>\n",
       "      <th>count</th>\n",
       "      <td>888.000000</td>\n",
       "      <td>8.880000e+02</td>\n",
       "      <td>8.880000e+02</td>\n",
       "    </tr>\n",
       "    <tr>\n",
       "      <th>mean</th>\n",
       "      <td>0.512703</td>\n",
       "      <td>7.343384e+06</td>\n",
       "      <td>3.902492e+05</td>\n",
       "    </tr>\n",
       "    <tr>\n",
       "      <th>std</th>\n",
       "      <td>1.245745</td>\n",
       "      <td>3.770393e+07</td>\n",
       "      <td>2.623865e+06</td>\n",
       "    </tr>\n",
       "    <tr>\n",
       "      <th>min</th>\n",
       "      <td>-3.170000</td>\n",
       "      <td>4.900000e+01</td>\n",
       "      <td>-8.581508e+06</td>\n",
       "    </tr>\n",
       "    <tr>\n",
       "      <th>25%</th>\n",
       "      <td>0.020000</td>\n",
       "      <td>5.011640e+05</td>\n",
       "      <td>4.496000e+03</td>\n",
       "    </tr>\n",
       "    <tr>\n",
       "      <th>50%</th>\n",
       "      <td>0.270000</td>\n",
       "      <td>1.225597e+06</td>\n",
       "      <td>6.074100e+04</td>\n",
       "    </tr>\n",
       "    <tr>\n",
       "      <th>75%</th>\n",
       "      <td>0.802500</td>\n",
       "      <td>3.612438e+06</td>\n",
       "      <td>2.072038e+05</td>\n",
       "    </tr>\n",
       "    <tr>\n",
       "      <th>max</th>\n",
       "      <td>27.010000</td>\n",
       "      <td>9.580092e+08</td>\n",
       "      <td>6.479260e+07</td>\n",
       "    </tr>\n",
       "  </tbody>\n",
       "</table>\n",
       "</div>"
      ],
      "text/plain": [
       "        基本每股盈餘(元)          營業收入          稅後淨利\n",
       "count  888.000000  8.880000e+02  8.880000e+02\n",
       "mean     0.512703  7.343384e+06  3.902492e+05\n",
       "std      1.245745  3.770393e+07  2.623865e+06\n",
       "min     -3.170000  4.900000e+01 -8.581508e+06\n",
       "25%      0.020000  5.011640e+05  4.496000e+03\n",
       "50%      0.270000  1.225597e+06  6.074100e+04\n",
       "75%      0.802500  3.612438e+06  2.072038e+05\n",
       "max     27.010000  9.580092e+08  6.479260e+07"
      ]
     },
     "execution_count": 111,
     "metadata": {},
     "output_type": "execute_result"
    }
   ],
   "source": [
    "stockdf.describe()"
   ]
  },
  {
   "cell_type": "code",
   "execution_count": 112,
   "metadata": {
    "collapsed": false
   },
   "outputs": [
    {
     "data": {
      "text/plain": [
       "958009217.0"
      ]
     },
     "execution_count": 112,
     "metadata": {},
     "output_type": "execute_result"
    }
   ],
   "source": [
    "stockdf['營業收入'].max()"
   ]
  },
  {
   "cell_type": "code",
   "execution_count": 113,
   "metadata": {
    "collapsed": false
   },
   "outputs": [
    {
     "data": {
      "text/html": [
       "<div>\n",
       "<table border=\"1\" class=\"dataframe\">\n",
       "  <thead>\n",
       "    <tr style=\"text-align: right;\">\n",
       "      <th></th>\n",
       "      <th>公司代號</th>\n",
       "      <th>公司名稱</th>\n",
       "      <th>產業別</th>\n",
       "      <th>基本每股盈餘(元)</th>\n",
       "      <th>普通股每股面額</th>\n",
       "      <th>營業收入</th>\n",
       "      <th>營業利益</th>\n",
       "      <th>營業外收入及支出</th>\n",
       "      <th>稅後淨利</th>\n",
       "    </tr>\n",
       "  </thead>\n",
       "  <tbody>\n",
       "    <tr>\n",
       "      <th>857</th>\n",
       "      <td>2317</td>\n",
       "      <td>鴻海精密工業股份有限公司</td>\n",
       "      <td>其他電子業</td>\n",
       "      <td>1.76</td>\n",
       "      <td>新台幣 10.0000元</td>\n",
       "      <td>958009217.0</td>\n",
       "      <td>3.53247e+07</td>\n",
       "      <td>981284</td>\n",
       "      <td>27548860.0</td>\n",
       "    </tr>\n",
       "  </tbody>\n",
       "</table>\n",
       "</div>"
      ],
      "text/plain": [
       "     公司代號          公司名稱    產業別  基本每股盈餘(元)       普通股每股面額         營業收入  \\\n",
       "857  2317  鴻海精密工業股份有限公司  其他電子業       1.76  新台幣 10.0000元  958009217.0   \n",
       "\n",
       "            營業利益 營業外收入及支出        稅後淨利  \n",
       "857  3.53247e+07   981284  27548860.0  "
      ]
     },
     "execution_count": 113,
     "metadata": {},
     "output_type": "execute_result"
    }
   ],
   "source": [
    "#stockdf['營業收入'] == stockdf['營業收入'].max()\n",
    "stockdf[stockdf['營業收入'] == stockdf['營業收入'].max()]"
   ]
  },
  {
   "cell_type": "code",
   "execution_count": 114,
   "metadata": {
    "collapsed": false
   },
   "outputs": [
    {
     "data": {
      "text/html": [
       "<div>\n",
       "<table border=\"1\" class=\"dataframe\">\n",
       "  <thead>\n",
       "    <tr style=\"text-align: right;\">\n",
       "      <th></th>\n",
       "      <th>公司代號</th>\n",
       "      <th>公司名稱</th>\n",
       "      <th>產業別</th>\n",
       "      <th>基本每股盈餘(元)</th>\n",
       "      <th>普通股每股面額</th>\n",
       "      <th>營業收入</th>\n",
       "      <th>營業利益</th>\n",
       "      <th>營業外收入及支出</th>\n",
       "      <th>稅後淨利</th>\n",
       "    </tr>\n",
       "  </thead>\n",
       "  <tbody>\n",
       "    <tr>\n",
       "      <th>262</th>\n",
       "      <td>1438</td>\n",
       "      <td>裕豐國際開發股份有限公司</td>\n",
       "      <td>建材營造</td>\n",
       "      <td>-0.01</td>\n",
       "      <td>新台幣 10.0000元</td>\n",
       "      <td>49.0</td>\n",
       "      <td>-2243</td>\n",
       "      <td>821</td>\n",
       "      <td>-1422.0</td>\n",
       "    </tr>\n",
       "  </tbody>\n",
       "</table>\n",
       "</div>"
      ],
      "text/plain": [
       "     公司代號          公司名稱   產業別  基本每股盈餘(元)       普通股每股面額  營業收入  營業利益 營業外收入及支出  \\\n",
       "262  1438  裕豐國際開發股份有限公司  建材營造      -0.01  新台幣 10.0000元  49.0 -2243      821   \n",
       "\n",
       "       稅後淨利  \n",
       "262 -1422.0  "
      ]
     },
     "execution_count": 114,
     "metadata": {},
     "output_type": "execute_result"
    }
   ],
   "source": [
    "stockdf[stockdf['營業收入'] == stockdf['營業收入'].min()]"
   ]
  },
  {
   "cell_type": "code",
   "execution_count": 115,
   "metadata": {
    "collapsed": false
   },
   "outputs": [
    {
     "data": {
      "text/html": [
       "<div>\n",
       "<table border=\"1\" class=\"dataframe\">\n",
       "  <thead>\n",
       "    <tr style=\"text-align: right;\">\n",
       "      <th></th>\n",
       "      <th>公司代號</th>\n",
       "      <th>公司名稱</th>\n",
       "      <th>產業別</th>\n",
       "      <th>基本每股盈餘(元)</th>\n",
       "      <th>普通股每股面額</th>\n",
       "      <th>營業收入</th>\n",
       "      <th>營業利益</th>\n",
       "      <th>營業外收入及支出</th>\n",
       "      <th>稅後淨利</th>\n",
       "    </tr>\n",
       "  </thead>\n",
       "  <tbody>\n",
       "    <tr>\n",
       "      <th>262</th>\n",
       "      <td>1438</td>\n",
       "      <td>裕豐國際開發股份有限公司</td>\n",
       "      <td>建材營造</td>\n",
       "      <td>-0.01</td>\n",
       "      <td>新台幣 10.0000元</td>\n",
       "      <td>49.0</td>\n",
       "      <td>-2243</td>\n",
       "      <td>821</td>\n",
       "      <td>-1422.0</td>\n",
       "    </tr>\n",
       "    <tr>\n",
       "      <th>269</th>\n",
       "      <td>2528</td>\n",
       "      <td>皇普建設股份有限公司</td>\n",
       "      <td>建材營造</td>\n",
       "      <td>-0.08</td>\n",
       "      <td>新台幣 10.0000元</td>\n",
       "      <td>66.0</td>\n",
       "      <td>-8311</td>\n",
       "      <td>-1947</td>\n",
       "      <td>-10258.0</td>\n",
       "    </tr>\n",
       "    <tr>\n",
       "      <th>608</th>\n",
       "      <td>2424</td>\n",
       "      <td>隴華電子股份有限公司</td>\n",
       "      <td>電腦及週邊設備業</td>\n",
       "      <td>-0.42</td>\n",
       "      <td>新台幣 10.0000元</td>\n",
       "      <td>1543.0</td>\n",
       "      <td>-5467</td>\n",
       "      <td>-8086</td>\n",
       "      <td>-12628.0</td>\n",
       "    </tr>\n",
       "  </tbody>\n",
       "</table>\n",
       "</div>"
      ],
      "text/plain": [
       "     公司代號          公司名稱       產業別  基本每股盈餘(元)       普通股每股面額    營業收入  營業利益  \\\n",
       "262  1438  裕豐國際開發股份有限公司      建材營造      -0.01  新台幣 10.0000元    49.0 -2243   \n",
       "269  2528    皇普建設股份有限公司      建材營造      -0.08  新台幣 10.0000元    66.0 -8311   \n",
       "608  2424    隴華電子股份有限公司  電腦及週邊設備業      -0.42  新台幣 10.0000元  1543.0 -5467   \n",
       "\n",
       "    營業外收入及支出     稅後淨利  \n",
       "262      821  -1422.0  \n",
       "269    -1947 -10258.0  \n",
       "608    -8086 -12628.0  "
      ]
     },
     "execution_count": 115,
     "metadata": {},
     "output_type": "execute_result"
    }
   ],
   "source": [
    "# SELECT * FROM stcodf ORDER BY 營業收入 LIMIT 3\n",
    "stockdf.sort_values('營業收入').head(3)"
   ]
  },
  {
   "cell_type": "code",
   "execution_count": 16,
   "metadata": {
    "collapsed": false
   },
   "outputs": [
    {
     "data": {
      "text/html": [
       "<div>\n",
       "<table border=\"1\" class=\"dataframe\">\n",
       "  <thead>\n",
       "    <tr style=\"text-align: right;\">\n",
       "      <th></th>\n",
       "      <th>公司代號</th>\n",
       "      <th>公司名稱</th>\n",
       "      <th>產業別</th>\n",
       "      <th>基本每股盈餘(元)</th>\n",
       "      <th>普通股每股面額</th>\n",
       "      <th>營業收入</th>\n",
       "      <th>營業利益</th>\n",
       "      <th>營業外收入及支出</th>\n",
       "      <th>稅後淨利</th>\n",
       "    </tr>\n",
       "  </thead>\n",
       "  <tbody>\n",
       "    <tr>\n",
       "      <th>857</th>\n",
       "      <td>2317</td>\n",
       "      <td>鴻海精密工業股份有限公司</td>\n",
       "      <td>其他電子業</td>\n",
       "      <td>1.76</td>\n",
       "      <td>新台幣 10.0000元</td>\n",
       "      <td>958009217.0</td>\n",
       "      <td>3.53247e+07</td>\n",
       "      <td>981284</td>\n",
       "      <td>27548860.0</td>\n",
       "    </tr>\n",
       "    <tr>\n",
       "      <th>562</th>\n",
       "      <td>4938</td>\n",
       "      <td>和碩聯合科技股份有限公司</td>\n",
       "      <td>電腦及週邊設備業</td>\n",
       "      <td>1.58</td>\n",
       "      <td>新台幣 10.0000元</td>\n",
       "      <td>256382310.0</td>\n",
       "      <td>6.77579e+06</td>\n",
       "      <td>-274616</td>\n",
       "      <td>4841286.0</td>\n",
       "    </tr>\n",
       "    <tr>\n",
       "      <th>484</th>\n",
       "      <td>2330</td>\n",
       "      <td>台灣積體電路製造股份有限公司</td>\n",
       "      <td>半導體業</td>\n",
       "      <td>2.50</td>\n",
       "      <td>新台幣 10.0000元</td>\n",
       "      <td>203495361.0</td>\n",
       "      <td>7.04673e+07</td>\n",
       "      <td>1.78858e+06</td>\n",
       "      <td>64792597.0</td>\n",
       "    </tr>\n",
       "  </tbody>\n",
       "</table>\n",
       "</div>"
      ],
      "text/plain": [
       "     公司代號            公司名稱       產業別  基本每股盈餘(元)       普通股每股面額         營業收入  \\\n",
       "857  2317    鴻海精密工業股份有限公司     其他電子業       1.76  新台幣 10.0000元  958009217.0   \n",
       "562  4938    和碩聯合科技股份有限公司  電腦及週邊設備業       1.58  新台幣 10.0000元  256382310.0   \n",
       "484  2330  台灣積體電路製造股份有限公司      半導體業       2.50  新台幣 10.0000元  203495361.0   \n",
       "\n",
       "            營業利益     營業外收入及支出        稅後淨利  \n",
       "857  3.53247e+07       981284  27548860.0  \n",
       "562  6.77579e+06      -274616   4841286.0  \n",
       "484  7.04673e+07  1.78858e+06  64792597.0  "
      ]
     },
     "execution_count": 16,
     "metadata": {},
     "output_type": "execute_result"
    }
   ],
   "source": [
    "# SELECT * FROM stcodf ORDER BY 營業收入 DESC LIMIT 3\n",
    "stockdf.sort_values('營業收入', ascending=False).head(3)"
   ]
  },
  {
   "cell_type": "code",
   "execution_count": 122,
   "metadata": {
    "collapsed": false
   },
   "outputs": [
    {
     "data": {
      "text/plain": [
       "產業別\n",
       "電腦及週邊設備業    1.258632e+09\n",
       "其他電子業       1.067066e+09\n",
       "金融保險業       5.887326e+08\n",
       "半導體業        5.245071e+08\n",
       "電子通路業       3.280177e+08\n",
       "光電業         3.100052e+08\n",
       "電子零組件業      2.882352e+08\n",
       "塑膠工業        2.491992e+08\n",
       "通信網路業       2.201759e+08\n",
       "其他          1.925858e+08\n",
       "航運業         1.764076e+08\n",
       "食品工業        1.646163e+08\n",
       "貿易百貨        1.560951e+08\n",
       "鋼鐵工業        1.438673e+08\n",
       "油電燃氣業       1.347268e+08\n",
       "紡織纖維        1.216846e+08\n",
       "電機機械        1.055176e+08\n",
       "汽車工業        1.027299e+08\n",
       "建材營造        6.800162e+07\n",
       "化學工業        6.420342e+07\n",
       "電器電纜        5.689345e+07\n",
       "橡膠工業        5.544802e+07\n",
       "造紙工業        3.833490e+07\n",
       "水泥工業        3.466540e+07\n",
       "生技醫療業       2.434520e+07\n",
       "觀光事業        2.178487e+07\n",
       "玻璃陶瓷        1.302729e+07\n",
       "資訊服務業       1.141810e+07\n",
       "Name: 營業收入, dtype: float64"
      ]
     },
     "execution_count": 122,
     "metadata": {},
     "output_type": "execute_result"
    }
   ],
   "source": [
    "# SELECT 產業別, SUM('營業收入') FROM stockdf GROUP BY '產業別'\n",
    "stockdf.groupby('產業別')['營業收入'].sum().sort_values(ascending=False)"
   ]
  },
  {
   "cell_type": "markdown",
   "metadata": {},
   "source": [
    "## 使用Pandas 繪圖"
   ]
  },
  {
   "cell_type": "code",
   "execution_count": 13,
   "metadata": {
    "collapsed": false
   },
   "outputs": [
    {
     "name": "stdout",
     "output_type": "stream",
     "text": [
      "Populating the interactive namespace from numpy and matplotlib\n"
     ]
    },
    {
     "data": {
      "text/plain": [
       "<matplotlib.axes._subplots.AxesSubplot at 0xbb7bb38>"
      ]
     },
     "execution_count": 13,
     "metadata": {},
     "output_type": "execute_result"
    },
    {
     "data": {
      "image/png": "[encoded data removed]",
      "text/plain": [
       "<matplotlib.figure.Figure at 0xbb8d240>"
      ]
     },
     "metadata": {},
     "output_type": "display_data"
    }
   ],
   "source": [
    "revenue_sum = stockdf.groupby('產業別')['營業收入'].sum().sort_values(ascending=False)\n",
    "% pylab inline\n",
    "\n",
    "revenue_sum.plot(kind = 'pie', figsize=[5,5], startangle = 90, counterclock = False)\n"
   ]
  },
  {
   "cell_type": "code",
   "execution_count": 15,
   "metadata": {
    "collapsed": true
   },
   "outputs": [],
   "source": [
    "?revenue_sum.plot"
   ]
  },
  {
   "cell_type": "code",
   "execution_count": 14,
   "metadata": {
    "collapsed": false
   },
   "outputs": [
    {
     "data": {
      "text/plain": [
       "<matplotlib.axes._subplots.AxesSubplot at 0x9c1f898>"
      ]
     },
     "execution_count": 14,
     "metadata": {},
     "output_type": "execute_result"
    },
    {
     "data": {
      "image/png": "[encoded data removed]",
      "text/plain": [
       "<matplotlib.figure.Figure at 0xb939e48>"
      ]
     },
     "metadata": {},
     "output_type": "display_data"
    }
   ],
   "source": [
    "revenue_sum.plot(kind = 'bar')\n"
   ]
  },
  {
   "cell_type": "markdown",
   "metadata": {},
   "source": [
    "## 抓取多個季別的EPS資訊"
   ]
  },
  {
   "cell_type": "code",
   "execution_count": 27,
   "metadata": {
    "collapsed": false
   },
   "outputs": [
    {
     "name": "stderr",
     "output_type": "stream",
     "text": [
      "C:\\ProgramData\\Anaconda3\\lib\\site-packages\\ipykernel\\__main__.py:21: SettingWithCopyWarning: \n",
      "A value is trying to be set on a copy of a slice from a DataFrame.\n",
      "Try using .loc[row_indexer,col_indexer] = value instead\n",
      "\n",
      "See the caveats in the documentation: http://pandas.pydata.org/pandas-docs/stable/indexing.html#indexing-view-versus-copy\n",
      "C:\\ProgramData\\Anaconda3\\lib\\site-packages\\ipykernel\\__main__.py:22: SettingWithCopyWarning: \n",
      "A value is trying to be set on a copy of a slice from a DataFrame.\n",
      "Try using .loc[row_indexer,col_indexer] = value instead\n",
      "\n",
      "See the caveats in the documentation: http://pandas.pydata.org/pandas-docs/stable/indexing.html#indexing-view-versus-copy\n"
     ]
    }
   ],
   "source": [
    "import requests\n",
    "url = 'http://mops.twse.com.tw/mops/web/ajax_t163sb19'\n",
    "payload = {\n",
    "    'encodeURIComponent':'1',\n",
    "    'step':'1',\n",
    "    'firstin':'1',\n",
    "    'TYPEK':'sii',\n",
    "    'code' :'24',\n",
    "    'year' :'105',\n",
    "    'season':'01'\n",
    "}\n",
    "\n",
    "def getEPS(year, season):\n",
    "    payload['year']   = year\n",
    "    payload['season'] = season\n",
    "    res = requests.post(url , data = payload)\n",
    "    res.encoding = 'utf-8'\n",
    "    dfs = pandas.read_html(res.text, header=0)\n",
    "    df = dfs[0]\n",
    "    df = df[df['公司代號'].str.match('^[0-9]')]\n",
    "    df['year'] = year\n",
    "    df['season'] = season\n",
    "    return df\n",
    "    \n",
    "df  = getEPS('105', '01')"
   ]
  },
  {
   "cell_type": "code",
   "execution_count": 29,
   "metadata": {
    "collapsed": false
   },
   "outputs": [
    {
     "name": "stderr",
     "output_type": "stream",
     "text": [
      "C:\\ProgramData\\Anaconda3\\lib\\site-packages\\ipykernel\\__main__.py:21: SettingWithCopyWarning: \n",
      "A value is trying to be set on a copy of a slice from a DataFrame.\n",
      "Try using .loc[row_indexer,col_indexer] = value instead\n",
      "\n",
      "See the caveats in the documentation: http://pandas.pydata.org/pandas-docs/stable/indexing.html#indexing-view-versus-copy\n",
      "C:\\ProgramData\\Anaconda3\\lib\\site-packages\\ipykernel\\__main__.py:22: SettingWithCopyWarning: \n",
      "A value is trying to be set on a copy of a slice from a DataFrame.\n",
      "Try using .loc[row_indexer,col_indexer] = value instead\n",
      "\n",
      "See the caveats in the documentation: http://pandas.pydata.org/pandas-docs/stable/indexing.html#indexing-view-versus-copy\n"
     ]
    },
    {
     "name": "stdout",
     "output_type": "stream",
     "text": [
      "102 01\n",
      "102 02\n",
      "102 03\n",
      "102 04\n",
      "103 01\n",
      "103 02\n",
      "103 03\n",
      "103 04\n",
      "104 01\n",
      "104 02\n",
      "104 03\n",
      "104 04\n",
      "105 01\n",
      "105 02\n",
      "105 03\n",
      "105 04\n"
     ]
    }
   ],
   "source": [
    "dftotal = []\n",
    "seasons = ['01', '02', '03', '04']\n",
    "for year in range(102, 106):\n",
    "    for season in seasons:\n",
    "        dftotal.append(getEPS(year, season))\n",
    "        print(year, season)"
   ]
  },
  {
   "cell_type": "code",
   "execution_count": 33,
   "metadata": {
    "collapsed": false
   },
   "outputs": [
    {
     "data": {
      "text/plain": [
       "16"
      ]
     },
     "execution_count": 33,
     "metadata": {},
     "output_type": "execute_result"
    }
   ],
   "source": [
    "len(dftotal)"
   ]
  },
  {
   "cell_type": "code",
   "execution_count": 34,
   "metadata": {
    "collapsed": true
   },
   "outputs": [],
   "source": [
    "stockdf = pandas.concat(dftotal, ignore_index=True)"
   ]
  },
  {
   "cell_type": "code",
   "execution_count": 35,
   "metadata": {
    "collapsed": false
   },
   "outputs": [
    {
     "name": "stdout",
     "output_type": "stream",
     "text": [
      "<class 'pandas.core.frame.DataFrame'>\n",
      "RangeIndex: 1110 entries, 0 to 1109\n",
      "Data columns (total 11 columns):\n",
      "公司代號         1110 non-null object\n",
      "公司名稱         1110 non-null object\n",
      "產業別          1110 non-null object\n",
      "基本每股盈餘(元)    1110 non-null float64\n",
      "普通股每股面額      1110 non-null object\n",
      "營業收入         1110 non-null float64\n",
      "營業利益         1110 non-null float64\n",
      "營業外收入及支出     1110 non-null float64\n",
      "稅後淨利         1110 non-null float64\n",
      "year         1110 non-null int64\n",
      "season       1110 non-null object\n",
      "dtypes: float64(5), int64(1), object(5)\n",
      "memory usage: 95.5+ KB\n"
     ]
    }
   ],
   "source": [
    "stockdf.info()"
   ]
  },
  {
   "cell_type": "code",
   "execution_count": 38,
   "metadata": {
    "collapsed": false
   },
   "outputs": [],
   "source": [
    "tw2330 = stockdf[stockdf['公司代號'] == '2330']"
   ]
  },
  {
   "cell_type": "code",
   "execution_count": 48,
   "metadata": {
    "collapsed": false
   },
   "outputs": [
    {
     "data": {
      "text/plain": [
       "<matplotlib.axes._subplots.AxesSubplot at 0xbe6eb38>"
      ]
     },
     "execution_count": 48,
     "metadata": {},
     "output_type": "execute_result"
    },
    {
     "data": {
      "image/png": "[encoded data removed]",
      "text/plain": [
       "<matplotlib.figure.Figure at 0xbfa2080>"
      ]
     },
     "metadata": {},
     "output_type": "display_data"
    }
   ],
   "source": [
    "tw2330['營業收入'].plot(kind = 'line', title = \"台積電營業收入\")"
   ]
  },
  {
   "cell_type": "markdown",
   "metadata": {},
   "source": [
    "## 正規表達法"
   ]
  },
  {
   "cell_type": "code",
   "execution_count": 41,
   "metadata": {
    "collapsed": true
   },
   "outputs": [],
   "source": [
    "a = '0912345678'\n",
    "b = '0922333444'\n",
    "c = '0955-111-222'\n",
    "d = '0955-111333'"
   ]
  },
  {
   "cell_type": "code",
   "execution_count": 42,
   "metadata": {
    "collapsed": false
   },
   "outputs": [
    {
     "data": {
      "text/plain": [
       "True"
      ]
     },
     "execution_count": 42,
     "metadata": {},
     "output_type": "execute_result"
    }
   ],
   "source": [
    "a == '0912345678'"
   ]
  },
  {
   "cell_type": "code",
   "execution_count": 50,
   "metadata": {
    "collapsed": false
   },
   "outputs": [
    {
     "data": {
      "text/plain": [
       "<_sre.SRE_Match object; span=(0, 1), match='3'>"
      ]
     },
     "execution_count": 50,
     "metadata": {},
     "output_type": "execute_result"
    }
   ],
   "source": [
    "import re\n",
    "a = '3'\n",
    "re.search('3' , a )\n",
    "re.search('4' , a ) # match nothing\n",
    "re.search('[0123456789]', a) # match 0 or 1 or 2 or 3 or 4 or 5 or 6 or ... or 9\n",
    "re.search('[0-9]', a) # [0-9] == [0123456789]\n",
    "re.search('\\d', a) # \\d == [0-9] == [0123456789]"
   ]
  },
  {
   "cell_type": "code",
   "execution_count": 54,
   "metadata": {
    "collapsed": false
   },
   "outputs": [
    {
     "data": {
      "text/plain": [
       "<_sre.SRE_Match object; span=(0, 1), match='5'>"
      ]
     },
     "execution_count": 54,
     "metadata": {},
     "output_type": "execute_result"
    }
   ],
   "source": [
    "a = 'q'\n",
    "re.search('[abcdefghijklmnopqrstuvwxyz]', a) # a or b or c or ... z\n",
    "re.search('[a-z]', a) # [a-z] == [abcdefghijklmnopqrstuvwxyz]\n",
    "a = 'Q'\n",
    "re.search('[a-z]', a) # match nothing\n",
    "re.search('[a-zA-Z]', a) \n",
    "a = '5'\n",
    "re.search('\\w', a) # \\w == [a-zA-Z0-9]"
   ]
  },
  {
   "cell_type": "code",
   "execution_count": 61,
   "metadata": {
    "collapsed": false
   },
   "outputs": [
    {
     "data": {
      "text/plain": [
       "<_sre.SRE_Match object; span=(0, 5), match='apple'>"
      ]
     },
     "execution_count": 61,
     "metadata": {},
     "output_type": "execute_result"
    }
   ],
   "source": [
    "a = 'apple'\n",
    "re.search('\\w{5}', a)  # match exact 5 character\n",
    "re.search('\\w{3,8}', a)  # match at least 3 character, at most 8 characters\n",
    "re.search('\\w{0,}', a) # match at least 0 character\n",
    "re.search('\\w*', a) # * == {0,}\n",
    "re.search('\\w{1,}', a) # match at least 1 character\n",
    "re.search('\\w+', a) # + == {1,}"
   ]
  },
  {
   "cell_type": "code",
   "execution_count": 70,
   "metadata": {
    "collapsed": false
   },
   "outputs": [
    {
     "name": "stdout",
     "output_type": "stream",
     "text": [
      "<_sre.SRE_Match object; span=(0, 10), match='0912345678'>\n",
      "<_sre.SRE_Match object; span=(0, 10), match='0922333444'>\n",
      "<_sre.SRE_Match object; span=(0, 12), match='0955-111-222'>\n",
      "<_sre.SRE_Match object; span=(0, 11), match='0955-111333'>\n",
      "None\n",
      "None\n"
     ]
    }
   ],
   "source": [
    "phones = ['0912345678', '0922333444', '0955-111-222', '0955-111333', 'a1112222333', '1112222333b']\n",
    "\n",
    "for phone in phones: \n",
    "    #m = re.search('\\d{10}', phone)\n",
    "    #m = re.search('\\d{4}-\\d{3}-\\d{3}', phone)\n",
    "    #m = re.search('\\d{4}-{0,1}\\d{3}-{0,1}\\d{3}', phone)\n",
    "    #m = re.search('\\d{4}-?\\d{3}-?\\d{3}', phone) # ? == {0,1}\n",
    "    #m = re.search('^\\d{4}-?\\d{3}-?\\d{3}', phone) # ^ match begin\n",
    "    m = re.search('^\\d{4}-?\\d{3}-?\\d{3}$', phone) # $ match end\n",
    "    print(m)"
   ]
  },
  {
   "cell_type": "markdown",
   "metadata": {},
   "source": [
    "## 圖表資料抓取"
   ]
  },
  {
   "cell_type": "code",
   "execution_count": 51,
   "metadata": {
    "collapsed": false
   },
   "outputs": [],
   "source": [
    "import requests\n",
    "res = requests.get('https://statementdog.com/analysis/analysis_ajax/2330/2012/1/2017/4/1?queried_by_user=true&_=1493525134598')\n",
    "jd = res.json()"
   ]
  },
  {
   "cell_type": "code",
   "execution_count": 61,
   "metadata": {
    "collapsed": false
   },
   "outputs": [
    {
     "data": {
      "text/html": [
       "<div>\n",
       "<table border=\"1\" class=\"dataframe\">\n",
       "  <thead>\n",
       "    <tr style=\"text-align: right;\">\n",
       "      <th></th>\n",
       "      <th>idx</th>\n",
       "      <th>price</th>\n",
       "    </tr>\n",
       "  </thead>\n",
       "  <tbody>\n",
       "    <tr>\n",
       "      <th>0</th>\n",
       "      <td>0</td>\n",
       "      <td>76.4</td>\n",
       "    </tr>\n",
       "    <tr>\n",
       "      <th>1</th>\n",
       "      <td>1</td>\n",
       "      <td>78.13</td>\n",
       "    </tr>\n",
       "    <tr>\n",
       "      <th>2</th>\n",
       "      <td>2</td>\n",
       "      <td>82.25</td>\n",
       "    </tr>\n",
       "    <tr>\n",
       "      <th>3</th>\n",
       "      <td>3</td>\n",
       "      <td>84.28</td>\n",
       "    </tr>\n",
       "    <tr>\n",
       "      <th>4</th>\n",
       "      <td>4</td>\n",
       "      <td>83.94</td>\n",
       "    </tr>\n",
       "  </tbody>\n",
       "</table>\n",
       "</div>"
      ],
      "text/plain": [
       "   idx  price\n",
       "0    0   76.4\n",
       "1    1  78.13\n",
       "2    2  82.25\n",
       "3    3  84.28\n",
       "4    4  83.94"
      ]
     },
     "execution_count": 61,
     "metadata": {},
     "output_type": "execute_result"
    }
   ],
   "source": [
    "data = pandas.DataFrame(jd['11']['data']['month']['data'])\n",
    "data.columns = ['idx', 'price']\n",
    "data.head()"
   ]
  },
  {
   "cell_type": "code",
   "execution_count": 63,
   "metadata": {
    "collapsed": false
   },
   "outputs": [
    {
     "data": {
      "text/html": [
       "<div>\n",
       "<table border=\"1\" class=\"dataframe\">\n",
       "  <thead>\n",
       "    <tr style=\"text-align: right;\">\n",
       "      <th></th>\n",
       "      <th>idx2</th>\n",
       "      <th>yearmonth</th>\n",
       "    </tr>\n",
       "  </thead>\n",
       "  <tbody>\n",
       "    <tr>\n",
       "      <th>0</th>\n",
       "      <td>0</td>\n",
       "      <td>201201</td>\n",
       "    </tr>\n",
       "    <tr>\n",
       "      <th>1</th>\n",
       "      <td>1</td>\n",
       "      <td>201202</td>\n",
       "    </tr>\n",
       "    <tr>\n",
       "      <th>2</th>\n",
       "      <td>2</td>\n",
       "      <td>201203</td>\n",
       "    </tr>\n",
       "    <tr>\n",
       "      <th>3</th>\n",
       "      <td>3</td>\n",
       "      <td>201204</td>\n",
       "    </tr>\n",
       "    <tr>\n",
       "      <th>4</th>\n",
       "      <td>4</td>\n",
       "      <td>201205</td>\n",
       "    </tr>\n",
       "  </tbody>\n",
       "</table>\n",
       "</div>"
      ],
      "text/plain": [
       "   idx2 yearmonth\n",
       "0     0    201201\n",
       "1     1    201202\n",
       "2     2    201203\n",
       "3     3    201204\n",
       "4     4    201205"
      ]
     },
     "execution_count": 63,
     "metadata": {},
     "output_type": "execute_result"
    }
   ],
   "source": [
    "axis = pandas.DataFrame(jd['11']['data']['month']['axis'])\n",
    "axis.columns = ['idx2', 'yearmonth']\n",
    "axis.head()"
   ]
  },
  {
   "cell_type": "code",
   "execution_count": 67,
   "metadata": {
    "collapsed": false
   },
   "outputs": [],
   "source": [
    "# axis = 1, concat by columns\n",
    "stockdf = pandas.concat([axis, data], axis=1)"
   ]
  },
  {
   "cell_type": "code",
   "execution_count": 69,
   "metadata": {
    "collapsed": false
   },
   "outputs": [],
   "source": [
    "# get yearmonth and price only\n",
    "stockdf = stockdf[['yearmonth', 'price']]"
   ]
  },
  {
   "cell_type": "code",
   "execution_count": 74,
   "metadata": {
    "collapsed": false
   },
   "outputs": [],
   "source": [
    "# change year month to datetime format, and assign to index\n",
    "stockdf.index = pandas.to_datetime(stockdf['yearmonth'], format = '%Y%m')"
   ]
  },
  {
   "cell_type": "code",
   "execution_count": 81,
   "metadata": {
    "collapsed": false
   },
   "outputs": [
    {
     "data": {
      "text/html": [
       "<div>\n",
       "<table border=\"1\" class=\"dataframe\">\n",
       "  <thead>\n",
       "    <tr style=\"text-align: right;\">\n",
       "      <th></th>\n",
       "      <th>yearmonth</th>\n",
       "      <th>price</th>\n",
       "    </tr>\n",
       "    <tr>\n",
       "      <th>yearmonth</th>\n",
       "      <th></th>\n",
       "      <th></th>\n",
       "    </tr>\n",
       "  </thead>\n",
       "  <tbody>\n",
       "    <tr>\n",
       "      <th>2012-01-01</th>\n",
       "      <td>201201</td>\n",
       "      <td>76.40</td>\n",
       "    </tr>\n",
       "    <tr>\n",
       "      <th>2012-02-01</th>\n",
       "      <td>201202</td>\n",
       "      <td>78.13</td>\n",
       "    </tr>\n",
       "    <tr>\n",
       "      <th>2012-03-01</th>\n",
       "      <td>201203</td>\n",
       "      <td>82.25</td>\n",
       "    </tr>\n",
       "    <tr>\n",
       "      <th>2012-04-01</th>\n",
       "      <td>201204</td>\n",
       "      <td>84.28</td>\n",
       "    </tr>\n",
       "    <tr>\n",
       "      <th>2012-05-01</th>\n",
       "      <td>201205</td>\n",
       "      <td>83.94</td>\n",
       "    </tr>\n",
       "  </tbody>\n",
       "</table>\n",
       "</div>"
      ],
      "text/plain": [
       "           yearmonth  price\n",
       "yearmonth                  \n",
       "2012-01-01    201201  76.40\n",
       "2012-02-01    201202  78.13\n",
       "2012-03-01    201203  82.25\n",
       "2012-04-01    201204  84.28\n",
       "2012-05-01    201205  83.94"
      ]
     },
     "execution_count": 81,
     "metadata": {},
     "output_type": "execute_result"
    }
   ],
   "source": [
    "stockdf.head()"
   ]
  },
  {
   "cell_type": "code",
   "execution_count": 78,
   "metadata": {
    "collapsed": false
   },
   "outputs": [],
   "source": [
    "# convert type of price from object to float\n",
    "stockdf['price'] = stockdf['price'].astype(float)"
   ]
  },
  {
   "cell_type": "code",
   "execution_count": 79,
   "metadata": {
    "collapsed": false
   },
   "outputs": [
    {
     "data": {
      "text/plain": [
       "<matplotlib.axes._subplots.AxesSubplot at 0xbeb3f60>"
      ]
     },
     "execution_count": 79,
     "metadata": {},
     "output_type": "execute_result"
    },
    {
     "data": {
      "image/png": "[encoded data removed]",
      "text/plain": [
       "<matplotlib.figure.Figure at 0xc060898>"
      ]
     },
     "metadata": {},
     "output_type": "display_data"
    }
   ],
   "source": [
    "# plot line chart\n",
    "stockdf['price'].plot(kind = 'line')"
   ]
  },
  {
   "cell_type": "code",
   "execution_count": 88,
   "metadata": {
    "collapsed": false
   },
   "outputs": [],
   "source": [
    "stockdf['mvg3']= stockdf['price'].rolling(window= 3).mean()"
   ]
  },
  {
   "cell_type": "code",
   "execution_count": 89,
   "metadata": {
    "collapsed": false
   },
   "outputs": [
    {
     "data": {
      "text/plain": [
       "<matplotlib.axes._subplots.AxesSubplot at 0xc1aa3c8>"
      ]
     },
     "execution_count": 89,
     "metadata": {},
     "output_type": "execute_result"
    },
    {
     "data": {
      "image/png": "[encoded data removed]",
      "text/plain": [
       "<matplotlib.figure.Figure at 0xc19db00>"
      ]
     },
     "metadata": {},
     "output_type": "display_data"
    }
   ],
   "source": [
    "# plot line chart\n",
    "stockdf[['price', 'mvg3']].plot(kind = 'line')"
   ]
  },
  {
   "cell_type": "code",
   "execution_count": null,
   "metadata": {
    "collapsed": true
   },
   "outputs": [],
   "source": []
  }
 ],
 "metadata": {
  "kernelspec": {
   "display_name": "Python 3",
   "language": "python",
   "name": "python3"
  },
  "language_info": {
   "codemirror_mode": {
    "name": "ipython",
    "version": 3
   },
   "file_extension": ".py",
   "mimetype": "text/x-python",
   "name": "python",
   "nbconvert_exporter": "python",
   "pygments_lexer": "ipython3",
   "version": "3.6.0"
  }
 },
 "nbformat": 4,
 "nbformat_minor": 2
}
