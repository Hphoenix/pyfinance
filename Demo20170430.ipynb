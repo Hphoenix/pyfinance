{
 "cells": [
  {
   "cell_type": "markdown",
   "metadata": {},
   "source": [
    "## 抓取上市公司EPS 資訊"
   ]
  },
  {
   "cell_type": "code",
   "execution_count": 2,
   "metadata": {
    "collapsed": true
   },
   "outputs": [],
   "source": [
    "import requests\n",
    "url = 'http://mops.twse.com.tw/mops/web/ajax_t163sb19'\n",
    "payload = {\n",
    "    'encodeURIComponent':'1',\n",
    "    'step':'1',\n",
    "    'firstin':'1',\n",
    "    'TYPEK':'sii',\n",
    "    'code':'24',\n",
    "    'year':'105',\n",
    "    'season':'01'\n",
    "}\n",
    "res = requests.post(url , data = payload)"
   ]
  },
  {
   "cell_type": "code",
   "execution_count": 7,
   "metadata": {
    "collapsed": false
   },
   "outputs": [],
   "source": [
    "res.encoding = 'utf-8'\n",
    "#res.text"
   ]
  },
  {
   "cell_type": "markdown",
   "metadata": {},
   "source": [
    "## 使用Pandas 讀取表格資料"
   ]
  },
  {
   "cell_type": "code",
   "execution_count": 22,
   "metadata": {
    "collapsed": true
   },
   "outputs": [],
   "source": [
    "import pandas\n",
    "dfs = pandas.read_html(res.text, header=0)"
   ]
  },
  {
   "cell_type": "code",
   "execution_count": 23,
   "metadata": {
    "collapsed": false
   },
   "outputs": [
    {
     "data": {
      "text/plain": [
       "list"
      ]
     },
     "execution_count": 23,
     "metadata": {},
     "output_type": "execute_result"
    }
   ],
   "source": [
    "type(dfs)"
   ]
  },
  {
   "cell_type": "code",
   "execution_count": 24,
   "metadata": {
    "collapsed": false
   },
   "outputs": [
    {
     "data": {
      "text/plain": [
       "1"
      ]
     },
     "execution_count": 24,
     "metadata": {},
     "output_type": "execute_result"
    }
   ],
   "source": [
    "len(dfs)"
   ]
  },
  {
   "cell_type": "code",
   "execution_count": 25,
   "metadata": {
    "collapsed": false
   },
   "outputs": [],
   "source": [
    "stockdf = dfs[0]"
   ]
  },
  {
   "cell_type": "code",
   "execution_count": 26,
   "metadata": {
    "collapsed": false
   },
   "outputs": [
    {
     "data": {
      "text/plain": [
       "pandas.core.frame.DataFrame"
      ]
     },
     "execution_count": 26,
     "metadata": {},
     "output_type": "execute_result"
    }
   ],
   "source": [
    "type(stockdf)"
   ]
  },
  {
   "cell_type": "code",
   "execution_count": 27,
   "metadata": {
    "collapsed": false
   },
   "outputs": [
    {
     "data": {
      "text/plain": [
       "Index(['公司代號', '公司名稱', '產業別', '基本每股盈餘(元)', '普通股每股面額', '營業收入', '營業利益',\n",
       "       '營業外收入及支出', '稅後淨利'],\n",
       "      dtype='object')"
      ]
     },
     "execution_count": 27,
     "metadata": {},
     "output_type": "execute_result"
    }
   ],
   "source": [
    "stockdf.columns"
   ]
  },
  {
   "cell_type": "code",
   "execution_count": 35,
   "metadata": {
    "collapsed": false
   },
   "outputs": [
    {
     "data": {
      "text/plain": [
       "0    False\n",
       "1     True\n",
       "2    False\n",
       "3    False\n",
       "4    False\n",
       "Name: 公司代號, dtype: bool"
      ]
     },
     "execution_count": 35,
     "metadata": {},
     "output_type": "execute_result"
    }
   ],
   "source": [
    "# contains 檢查理面有沒有包含特定文字\n",
    "stockdf['公司代號'].str.contains('基本').head()"
   ]
  },
  {
   "cell_type": "markdown",
   "metadata": {},
   "source": [
    "## 使用正規表達法篩選資料"
   ]
  },
  {
   "cell_type": "code",
   "execution_count": 72,
   "metadata": {
    "collapsed": false
   },
   "outputs": [
    {
     "data": {
      "text/html": [
       "<div>\n",
       "<table border=\"1\" class=\"dataframe\">\n",
       "  <thead>\n",
       "    <tr style=\"text-align: right;\">\n",
       "      <th></th>\n",
       "      <th>公司代號</th>\n",
       "      <th>公司名稱</th>\n",
       "      <th>產業別</th>\n",
       "      <th>基本每股盈餘(元)</th>\n",
       "      <th>普通股每股面額</th>\n",
       "      <th>營業收入</th>\n",
       "      <th>營業利益</th>\n",
       "      <th>營業外收入及支出</th>\n",
       "      <th>稅後淨利</th>\n",
       "    </tr>\n",
       "  </thead>\n",
       "  <tbody>\n",
       "    <tr>\n",
       "      <th>0</th>\n",
       "      <td>6415</td>\n",
       "      <td>矽力杰股份有限公司</td>\n",
       "      <td>半導體業</td>\n",
       "      <td>3.09</td>\n",
       "      <td>新台幣 10.0000元</td>\n",
       "      <td>1317347.0</td>\n",
       "      <td>234500.0</td>\n",
       "      <td>14642.0</td>\n",
       "      <td>238548.0</td>\n",
       "    </tr>\n",
       "    <tr>\n",
       "      <th>2</th>\n",
       "      <td>2454</td>\n",
       "      <td>聯發科技股份有限公司</td>\n",
       "      <td>半導體業</td>\n",
       "      <td>2.79</td>\n",
       "      <td>新台幣 10.0000元</td>\n",
       "      <td>55905486.0</td>\n",
       "      <td>4403092.0</td>\n",
       "      <td>875095.0</td>\n",
       "      <td>4472987.0</td>\n",
       "    </tr>\n",
       "    <tr>\n",
       "      <th>3</th>\n",
       "      <td>2330</td>\n",
       "      <td>台灣積體電路製造股份有限公司</td>\n",
       "      <td>半導體業</td>\n",
       "      <td>2.50</td>\n",
       "      <td>新台幣 10.0000元</td>\n",
       "      <td>203495361.0</td>\n",
       "      <td>70467314.0</td>\n",
       "      <td>1788585.0</td>\n",
       "      <td>64792597.0</td>\n",
       "    </tr>\n",
       "  </tbody>\n",
       "</table>\n",
       "</div>"
      ],
      "text/plain": [
       "   公司代號            公司名稱   產業別  基本每股盈餘(元)       普通股每股面額         營業收入  \\\n",
       "0  6415       矽力杰股份有限公司  半導體業       3.09  新台幣 10.0000元    1317347.0   \n",
       "2  2454      聯發科技股份有限公司  半導體業       2.79  新台幣 10.0000元   55905486.0   \n",
       "3  2330  台灣積體電路製造股份有限公司  半導體業       2.50  新台幣 10.0000元  203495361.0   \n",
       "\n",
       "         營業利益   營業外收入及支出        稅後淨利  \n",
       "0    234500.0    14642.0    238548.0  \n",
       "2   4403092.0   875095.0   4472987.0  \n",
       "3  70467314.0  1788585.0  64792597.0  "
      ]
     },
     "execution_count": 72,
     "metadata": {},
     "output_type": "execute_result"
    }
   ],
   "source": [
    "# match 可以允許你使用正規表達法檢查\n",
    "#stockdf['公司代號'].str.match('^[0-9]')\n",
    "stockdf[stockdf['公司代號'].str.match('^[0-9]')].head(3)"
   ]
  },
  {
   "cell_type": "markdown",
   "metadata": {},
   "source": [
    "## 正規表達法"
   ]
  },
  {
   "cell_type": "code",
   "execution_count": 41,
   "metadata": {
    "collapsed": true
   },
   "outputs": [],
   "source": [
    "a = '0912345678'\n",
    "b = '0922333444'\n",
    "c = '0955-111-222'\n",
    "d = '0955-111333'"
   ]
  },
  {
   "cell_type": "code",
   "execution_count": 42,
   "metadata": {
    "collapsed": false
   },
   "outputs": [
    {
     "data": {
      "text/plain": [
       "True"
      ]
     },
     "execution_count": 42,
     "metadata": {},
     "output_type": "execute_result"
    }
   ],
   "source": [
    "a == '0912345678'"
   ]
  },
  {
   "cell_type": "code",
   "execution_count": 50,
   "metadata": {
    "collapsed": false
   },
   "outputs": [
    {
     "data": {
      "text/plain": [
       "<_sre.SRE_Match object; span=(0, 1), match='3'>"
      ]
     },
     "execution_count": 50,
     "metadata": {},
     "output_type": "execute_result"
    }
   ],
   "source": [
    "import re\n",
    "a = '3'\n",
    "re.search('3' , a )\n",
    "re.search('4' , a ) # match nothing\n",
    "re.search('[0123456789]', a) # match 0 or 1 or 2 or 3 or 4 or 5 or 6 or ... or 9\n",
    "re.search('[0-9]', a) # [0-9] == [0123456789]\n",
    "re.search('\\d', a) # \\d == [0-9] == [0123456789]"
   ]
  },
  {
   "cell_type": "code",
   "execution_count": 54,
   "metadata": {
    "collapsed": false
   },
   "outputs": [
    {
     "data": {
      "text/plain": [
       "<_sre.SRE_Match object; span=(0, 1), match='5'>"
      ]
     },
     "execution_count": 54,
     "metadata": {},
     "output_type": "execute_result"
    }
   ],
   "source": [
    "a = 'q'\n",
    "re.search('[abcdefghijklmnopqrstuvwxyz]', a) # a or b or c or ... z\n",
    "re.search('[a-z]', a) # [a-z] == [abcdefghijklmnopqrstuvwxyz]\n",
    "a = 'Q'\n",
    "re.search('[a-z]', a) # match nothing\n",
    "re.search('[a-zA-Z]', a) \n",
    "a = '5'\n",
    "re.search('\\w', a) # \\w == [a-zA-Z0-9]"
   ]
  },
  {
   "cell_type": "code",
   "execution_count": 61,
   "metadata": {
    "collapsed": false
   },
   "outputs": [
    {
     "data": {
      "text/plain": [
       "<_sre.SRE_Match object; span=(0, 5), match='apple'>"
      ]
     },
     "execution_count": 61,
     "metadata": {},
     "output_type": "execute_result"
    }
   ],
   "source": [
    "a = 'apple'\n",
    "re.search('\\w{5}', a)  # match exact 5 character\n",
    "re.search('\\w{3,8}', a)  # match at least 3 character, at most 8 characters\n",
    "re.search('\\w{0,}', a) # match at least 0 character\n",
    "re.search('\\w*', a) # * == {0,}\n",
    "re.search('\\w{1,}', a) # match at least 1 character\n",
    "re.search('\\w+', a) # + == {1,}"
   ]
  },
  {
   "cell_type": "code",
   "execution_count": 70,
   "metadata": {
    "collapsed": false
   },
   "outputs": [
    {
     "name": "stdout",
     "output_type": "stream",
     "text": [
      "<_sre.SRE_Match object; span=(0, 10), match='0912345678'>\n",
      "<_sre.SRE_Match object; span=(0, 10), match='0922333444'>\n",
      "<_sre.SRE_Match object; span=(0, 12), match='0955-111-222'>\n",
      "<_sre.SRE_Match object; span=(0, 11), match='0955-111333'>\n",
      "None\n",
      "None\n"
     ]
    }
   ],
   "source": [
    "phones = ['0912345678', '0922333444', '0955-111-222', '0955-111333', 'a1112222333', '1112222333b']\n",
    "\n",
    "for phone in phones: \n",
    "    #m = re.search('\\d{10}', phone)\n",
    "    #m = re.search('\\d{4}-\\d{3}-\\d{3}', phone)\n",
    "    #m = re.search('\\d{4}-{0,1}\\d{3}-{0,1}\\d{3}', phone)\n",
    "    #m = re.search('\\d{4}-?\\d{3}-?\\d{3}', phone) # ? == {0,1}\n",
    "    #m = re.search('^\\d{4}-?\\d{3}-?\\d{3}', phone) # ^ match begin\n",
    "    m = re.search('^\\d{4}-?\\d{3}-?\\d{3}$', phone) # ^ match end\n",
    "    print(m)"
   ]
  },
  {
   "cell_type": "code",
   "execution_count": null,
   "metadata": {
    "collapsed": true
   },
   "outputs": [],
   "source": []
  }
 ],
 "metadata": {
  "kernelspec": {
   "display_name": "Python 3",
   "language": "python",
   "name": "python3"
  },
  "language_info": {
   "codemirror_mode": {
    "name": "ipython",
    "version": 3
   },
   "file_extension": ".py",
   "mimetype": "text/x-python",
   "name": "python",
   "nbconvert_exporter": "python",
   "pygments_lexer": "ipython3",
   "version": "3.6.0"
  }
 },
 "nbformat": 4,
 "nbformat_minor": 2
}
